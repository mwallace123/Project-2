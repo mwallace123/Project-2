{
 "cells": [
  {
   "cell_type": "markdown",
   "id": "fe294352",
   "metadata": {},
   "source": [
    "# Project 2: Term Deposit Determination"
   ]
  },
  {
   "cell_type": "markdown",
   "id": "48ea829a",
   "metadata": {},
   "source": [
    "## Importing Modules And Defining Machine Learning Algorithms"
   ]
  },
  {
   "cell_type": "code",
   "execution_count": 2,
   "id": "d0fb9dd5",
   "metadata": {},
   "outputs": [],
   "source": [
    "import pandas as pd\n",
    "import numpy as np\n",
    "import matplotlib.pyplot as plt\n",
    "import warnings\n",
    "warnings.filterwarnings(\"ignore\")\n",
    "import seaborn as sns\n",
    "import shap"
   ]
  },
  {
   "cell_type": "code",
   "execution_count": 3,
   "id": "c249466a",
   "metadata": {},
   "outputs": [],
   "source": [
    "from sklearn.linear_model import LogisticRegression\n",
    "from sklearn.model_selection import train_test_split\n",
    "from sklearn.model_selection import GridSearchCV\n",
    "from sklearn.metrics import confusion_matrix\n",
    "from sklearn.metrics import classification_report\n",
    "import matplotlib.pyplot as plt\n",
    "from sklearn.metrics import roc_auc_score\n",
    "from sklearn.metrics import roc_curve\n",
    "\n",
    "def run_regression_accuracy(X_train, y_train, X_test, y_test):   \n",
    "    paramgrid = {'C': np.logspace(-8, 5, 15)}\n",
    "    grid_search = GridSearchCV(LogisticRegression(), paramgrid)\n",
    "    \n",
    "    grid_search.fit(X_train, y_train)\n",
    "    logreg = grid_search.best_estimator_\n",
    "    y_pred = logreg.predict(X_test)\n",
    "    print('Accuracy of logistic regression classifier on test set: {:.2f}'.format(logreg.score(X_test, y_test)))\n",
    "    cm = confusion_matrix(y_test, y_pred)\n",
    "    print('\\nConfusion matrix: \\n',cm)\n",
    "\n",
    "    print('\\nClassification report: \\n',classification_report(y_test, y_pred))\n",
    "\n",
    "    logit_roc_auc = roc_auc_score(y_test, logreg.predict(X_test))\n",
    "    fpr, tpr, thresholds = roc_curve(y_test, logreg.predict_proba(X_test)[:,1])\n",
    "\n",
    "    plt.figure()\n",
    "    plt.plot(fpr, tpr, label='Logistic Regression (area = %0.2f)' % logit_roc_auc)\n",
    "    plt.plot([0, 1], [0, 1],'r--')\n",
    "    plt.xlim([0.0, 1.0])\n",
    "    plt.ylim([0.0, 1.05])\n",
    "    plt.xlabel('False Positive Rate')\n",
    "    plt.ylabel('True Positive Rate')\n",
    "    plt.title('Receiver operating characteristic')\n",
    "    plt.legend(loc=\"lower right\")\n",
    "    plt.savefig('LOGISTIC REGRESSION RESULTS.png')\n",
    "    plt.show()\n",
    "  \n",
    "    return logreg"
   ]
  },
  {
   "cell_type": "code",
   "execution_count": 4,
   "id": "e3eecc59",
   "metadata": {},
   "outputs": [],
   "source": [
    "from sklearn.ensemble import RandomForestClassifier\n",
    "from sklearn.model_selection import RandomizedSearchCV\n",
    "\n",
    "def run_random_forest_accuracy(X_train, y_train, X_test, y_test):   \n",
    "    paramgrid = {'max_depth': list(range(1, 15, 2)), 'n_estimators': list(range(1, 200, 20))}\n",
    "    grid_search = RandomizedSearchCV(RandomForestClassifier(random_state=1), paramgrid) # Could do a RandomizedSearchCV to save computing.\n",
    "    \n",
    "    grid_search.fit(X_train, y_train)\n",
    "    logreg = grid_search.best_estimator_\n",
    "    y_pred = logreg.predict(X_test)\n",
    "    print('Accuracy of random forest classifier on test set: {:.2f}'.format(logreg.score(X_test, y_test)))\n",
    "    cm = confusion_matrix(y_test, y_pred)\n",
    "    print('\\nConfusion matrix: \\n',cm)\n",
    "\n",
    "    print('\\nClassification report: \\n',classification_report(y_test, y_pred))\n",
    "\n",
    "    logit_roc_auc = roc_auc_score(y_test, logreg.predict(X_test))\n",
    "    fpr, tpr, thresholds = roc_curve(y_test, logreg.predict_proba(X_test)[:,1])\n",
    "\n",
    "    plt.figure()\n",
    "    plt.plot(fpr, tpr, label='Logistic Regression (area = %0.2f)' % logit_roc_auc)\n",
    "    plt.plot([0, 1], [0, 1],'r--')\n",
    "    plt.xlim([0.0, 1.0])\n",
    "    plt.ylim([0.0, 1.05])\n",
    "    plt.xlabel('False Positive Rate')\n",
    "    plt.ylabel('True Positive Rate')\n",
    "    plt.title('Receiver operating characteristic')\n",
    "    plt.legend(loc=\"lower right\")\n",
    "    plt.savefig('RANDOM FOREST RESULTS.png')\n",
    "    plt.show()\n",
    "  \n",
    "    return logreg"
   ]
  },
  {
   "cell_type": "code",
   "execution_count": 5,
   "id": "99ae3207",
   "metadata": {},
   "outputs": [],
   "source": [
    "from sklearn.tree import DecisionTreeClassifier\n",
    "from sklearn.model_selection import RandomizedSearchCV\n",
    "\n",
    "def run_decision_tree_accuracy(X_train, y_train, X_test, y_test):   \n",
    "    paramgrid = {'max_depth': list(range(1, 20, 2))\n",
    "                }\n",
    "    grid_search = RandomizedSearchCV(DecisionTreeClassifier(), paramgrid, cv=5) # Could do a RandomizedSearchCV to save computing.\n",
    "    \n",
    "    grid_search.fit(X_train, y_train)\n",
    "    logreg = grid_search.best_estimator_\n",
    "    y_pred = logreg.predict(X_test)\n",
    "    print('Accuracy of decision tree on test set: {:.2f}'.format(logreg.score(X_test, y_test)))\n",
    "    cm = confusion_matrix(y_test, y_pred)\n",
    "    print('\\nConfusion matrix: \\n',cm)\n",
    "\n",
    "    print('\\nClassification report: \\n',classification_report(y_test, y_pred))\n",
    "\n",
    "    logit_roc_auc = roc_auc_score(y_test, logreg.predict(X_test))\n",
    "    fpr, tpr, thresholds = roc_curve(y_test, logreg.predict_proba(X_test)[:,1])\n",
    "\n",
    "    plt.figure()\n",
    "    plt.plot(fpr, tpr, label='Logistic Regression (area = %0.2f)' % logit_roc_auc)\n",
    "    plt.plot([0, 1], [0, 1],'r--')\n",
    "    plt.xlim([0.0, 1.0])\n",
    "    plt.ylim([0.0, 1.05])\n",
    "    plt.xlabel('False Positive Rate')\n",
    "    plt.ylabel('True Positive Rate')\n",
    "    plt.title('Receiver operating characteristic')\n",
    "    plt.legend(loc=\"lower right\")\n",
    "    plt.savefig('RANDOM FOREST RESULTS.png')\n",
    "    plt.show()\n",
    "  \n",
    "    return logreg"
   ]
  },
  {
   "cell_type": "code",
   "execution_count": 6,
   "id": "de722e5d",
   "metadata": {},
   "outputs": [],
   "source": [
    "file = pd.read_csv('term-deposit-marketing-2020.csv') # reading the file"
   ]
  },
  {
   "cell_type": "code",
   "execution_count": 7,
   "id": "0011c3b3",
   "metadata": {},
   "outputs": [
    {
     "data": {
      "text/html": [
       "<div>\n",
       "<style scoped>\n",
       "    .dataframe tbody tr th:only-of-type {\n",
       "        vertical-align: middle;\n",
       "    }\n",
       "\n",
       "    .dataframe tbody tr th {\n",
       "        vertical-align: top;\n",
       "    }\n",
       "\n",
       "    .dataframe thead th {\n",
       "        text-align: right;\n",
       "    }\n",
       "</style>\n",
       "<table border=\"1\" class=\"dataframe\">\n",
       "  <thead>\n",
       "    <tr style=\"text-align: right;\">\n",
       "      <th></th>\n",
       "      <th>age</th>\n",
       "      <th>job</th>\n",
       "      <th>marital</th>\n",
       "      <th>education</th>\n",
       "      <th>default</th>\n",
       "      <th>balance</th>\n",
       "      <th>housing</th>\n",
       "      <th>loan</th>\n",
       "      <th>contact</th>\n",
       "      <th>day</th>\n",
       "      <th>month</th>\n",
       "      <th>duration</th>\n",
       "      <th>campaign</th>\n",
       "      <th>y</th>\n",
       "    </tr>\n",
       "  </thead>\n",
       "  <tbody>\n",
       "    <tr>\n",
       "      <th>0</th>\n",
       "      <td>58</td>\n",
       "      <td>management</td>\n",
       "      <td>married</td>\n",
       "      <td>tertiary</td>\n",
       "      <td>no</td>\n",
       "      <td>2143</td>\n",
       "      <td>yes</td>\n",
       "      <td>no</td>\n",
       "      <td>unknown</td>\n",
       "      <td>5</td>\n",
       "      <td>may</td>\n",
       "      <td>261</td>\n",
       "      <td>1</td>\n",
       "      <td>no</td>\n",
       "    </tr>\n",
       "    <tr>\n",
       "      <th>1</th>\n",
       "      <td>44</td>\n",
       "      <td>technician</td>\n",
       "      <td>single</td>\n",
       "      <td>secondary</td>\n",
       "      <td>no</td>\n",
       "      <td>29</td>\n",
       "      <td>yes</td>\n",
       "      <td>no</td>\n",
       "      <td>unknown</td>\n",
       "      <td>5</td>\n",
       "      <td>may</td>\n",
       "      <td>151</td>\n",
       "      <td>1</td>\n",
       "      <td>no</td>\n",
       "    </tr>\n",
       "    <tr>\n",
       "      <th>2</th>\n",
       "      <td>33</td>\n",
       "      <td>entrepreneur</td>\n",
       "      <td>married</td>\n",
       "      <td>secondary</td>\n",
       "      <td>no</td>\n",
       "      <td>2</td>\n",
       "      <td>yes</td>\n",
       "      <td>yes</td>\n",
       "      <td>unknown</td>\n",
       "      <td>5</td>\n",
       "      <td>may</td>\n",
       "      <td>76</td>\n",
       "      <td>1</td>\n",
       "      <td>no</td>\n",
       "    </tr>\n",
       "    <tr>\n",
       "      <th>3</th>\n",
       "      <td>47</td>\n",
       "      <td>blue-collar</td>\n",
       "      <td>married</td>\n",
       "      <td>unknown</td>\n",
       "      <td>no</td>\n",
       "      <td>1506</td>\n",
       "      <td>yes</td>\n",
       "      <td>no</td>\n",
       "      <td>unknown</td>\n",
       "      <td>5</td>\n",
       "      <td>may</td>\n",
       "      <td>92</td>\n",
       "      <td>1</td>\n",
       "      <td>no</td>\n",
       "    </tr>\n",
       "    <tr>\n",
       "      <th>4</th>\n",
       "      <td>33</td>\n",
       "      <td>unknown</td>\n",
       "      <td>single</td>\n",
       "      <td>unknown</td>\n",
       "      <td>no</td>\n",
       "      <td>1</td>\n",
       "      <td>no</td>\n",
       "      <td>no</td>\n",
       "      <td>unknown</td>\n",
       "      <td>5</td>\n",
       "      <td>may</td>\n",
       "      <td>198</td>\n",
       "      <td>1</td>\n",
       "      <td>no</td>\n",
       "    </tr>\n",
       "  </tbody>\n",
       "</table>\n",
       "</div>"
      ],
      "text/plain": [
       "   age           job  marital  education default  balance housing loan  \\\n",
       "0   58    management  married   tertiary      no     2143     yes   no   \n",
       "1   44    technician   single  secondary      no       29     yes   no   \n",
       "2   33  entrepreneur  married  secondary      no        2     yes  yes   \n",
       "3   47   blue-collar  married    unknown      no     1506     yes   no   \n",
       "4   33       unknown   single    unknown      no        1      no   no   \n",
       "\n",
       "   contact  day month  duration  campaign   y  \n",
       "0  unknown    5   may       261         1  no  \n",
       "1  unknown    5   may       151         1  no  \n",
       "2  unknown    5   may        76         1  no  \n",
       "3  unknown    5   may        92         1  no  \n",
       "4  unknown    5   may       198         1  no  "
      ]
     },
     "execution_count": 7,
     "metadata": {},
     "output_type": "execute_result"
    }
   ],
   "source": [
    "file.head() # visual confirmation of the data"
   ]
  },
  {
   "cell_type": "code",
   "execution_count": 8,
   "id": "b9b3e834",
   "metadata": {},
   "outputs": [
    {
     "name": "stdout",
     "output_type": "stream",
     "text": [
      "<class 'pandas.core.frame.DataFrame'>\n",
      "RangeIndex: 40000 entries, 0 to 39999\n",
      "Data columns (total 14 columns):\n",
      " #   Column     Non-Null Count  Dtype \n",
      "---  ------     --------------  ----- \n",
      " 0   age        40000 non-null  int64 \n",
      " 1   job        40000 non-null  object\n",
      " 2   marital    40000 non-null  object\n",
      " 3   education  40000 non-null  object\n",
      " 4   default    40000 non-null  object\n",
      " 5   balance    40000 non-null  int64 \n",
      " 6   housing    40000 non-null  object\n",
      " 7   loan       40000 non-null  object\n",
      " 8   contact    40000 non-null  object\n",
      " 9   day        40000 non-null  int64 \n",
      " 10  month      40000 non-null  object\n",
      " 11  duration   40000 non-null  int64 \n",
      " 12  campaign   40000 non-null  int64 \n",
      " 13  y          40000 non-null  object\n",
      "dtypes: int64(5), object(9)\n",
      "memory usage: 4.3+ MB\n"
     ]
    }
   ],
   "source": [
    "file.info() # inspecting the data"
   ]
  },
  {
   "cell_type": "markdown",
   "id": "e714dcfa",
   "metadata": {},
   "source": [
    "## Splitting up the file into a training file and a testing file"
   ]
  },
  {
   "cell_type": "code",
   "execution_count": 9,
   "id": "5f36fd4c",
   "metadata": {},
   "outputs": [],
   "source": [
    "X = file.drop(['y'], axis=1)\n",
    "y = file['y']"
   ]
  },
  {
   "cell_type": "code",
   "execution_count": 10,
   "id": "5f87731e",
   "metadata": {},
   "outputs": [],
   "source": [
    "X_train, X_test, y_train, y_test = train_test_split(X, y, test_size=0.4, random_state=42)"
   ]
  },
  {
   "cell_type": "code",
   "execution_count": 11,
   "id": "b85024f0",
   "metadata": {},
   "outputs": [],
   "source": [
    "Training_file = X_train.join(y_train)"
   ]
  },
  {
   "cell_type": "code",
   "execution_count": 12,
   "id": "d16b3950",
   "metadata": {},
   "outputs": [],
   "source": [
    "Testing_file = X_test.join(y_test)"
   ]
  },
  {
   "cell_type": "markdown",
   "id": "7e41b283",
   "metadata": {},
   "source": [
    "## Working With The Training File Only From Here On Testing File Used Later"
   ]
  },
  {
   "cell_type": "markdown",
   "id": "3daf9300",
   "metadata": {},
   "source": [
    "### Class Distribution Of Target Variable In Training File"
   ]
  },
  {
   "cell_type": "code",
   "execution_count": 13,
   "id": "e1880d2f",
   "metadata": {},
   "outputs": [
    {
     "data": {
      "image/png": "[encoded data removed]",
      "text/plain": [
       "<Figure size 432x288 with 1 Axes>"
      ]
     },
     "metadata": {
      "needs_background": "light"
     },
     "output_type": "display_data"
    }
   ],
   "source": [
    "Training_file[\"y\"].value_counts(normalize=True).plot.bar(title='Target Attribute: Overall Satisfaction')\n",
    "plt.show() # visual distribution of the two different class frequencies."
   ]
  },
  {
   "cell_type": "markdown",
   "id": "8d8bc03b",
   "metadata": {},
   "source": [
    "### Creation Of file_zero From Column Selection"
   ]
  },
  {
   "cell_type": "code",
   "execution_count": 14,
   "id": "4b7d769a",
   "metadata": {},
   "outputs": [
    {
     "data": {
      "text/html": [
       "<div>\n",
       "<style scoped>\n",
       "    .dataframe tbody tr th:only-of-type {\n",
       "        vertical-align: middle;\n",
       "    }\n",
       "\n",
       "    .dataframe tbody tr th {\n",
       "        vertical-align: top;\n",
       "    }\n",
       "\n",
       "    .dataframe thead th {\n",
       "        text-align: right;\n",
       "    }\n",
       "</style>\n",
       "<table border=\"1\" class=\"dataframe\">\n",
       "  <thead>\n",
       "    <tr style=\"text-align: right;\">\n",
       "      <th></th>\n",
       "      <th>age</th>\n",
       "      <th>marital</th>\n",
       "      <th>balance</th>\n",
       "      <th>duration</th>\n",
       "      <th>campaign</th>\n",
       "      <th>education</th>\n",
       "      <th>default</th>\n",
       "      <th>housing</th>\n",
       "      <th>loan</th>\n",
       "      <th>y</th>\n",
       "    </tr>\n",
       "  </thead>\n",
       "  <tbody>\n",
       "    <tr>\n",
       "      <th>20643</th>\n",
       "      <td>40</td>\n",
       "      <td>married</td>\n",
       "      <td>4396</td>\n",
       "      <td>432</td>\n",
       "      <td>3</td>\n",
       "      <td>secondary</td>\n",
       "      <td>no</td>\n",
       "      <td>no</td>\n",
       "      <td>no</td>\n",
       "      <td>yes</td>\n",
       "    </tr>\n",
       "    <tr>\n",
       "      <th>30774</th>\n",
       "      <td>34</td>\n",
       "      <td>married</td>\n",
       "      <td>196</td>\n",
       "      <td>59</td>\n",
       "      <td>3</td>\n",
       "      <td>secondary</td>\n",
       "      <td>no</td>\n",
       "      <td>no</td>\n",
       "      <td>no</td>\n",
       "      <td>no</td>\n",
       "    </tr>\n",
       "    <tr>\n",
       "      <th>21890</th>\n",
       "      <td>38</td>\n",
       "      <td>single</td>\n",
       "      <td>38</td>\n",
       "      <td>105</td>\n",
       "      <td>2</td>\n",
       "      <td>tertiary</td>\n",
       "      <td>no</td>\n",
       "      <td>no</td>\n",
       "      <td>no</td>\n",
       "      <td>no</td>\n",
       "    </tr>\n",
       "    <tr>\n",
       "      <th>21611</th>\n",
       "      <td>60</td>\n",
       "      <td>married</td>\n",
       "      <td>2149</td>\n",
       "      <td>222</td>\n",
       "      <td>4</td>\n",
       "      <td>tertiary</td>\n",
       "      <td>no</td>\n",
       "      <td>no</td>\n",
       "      <td>no</td>\n",
       "      <td>no</td>\n",
       "    </tr>\n",
       "    <tr>\n",
       "      <th>35368</th>\n",
       "      <td>51</td>\n",
       "      <td>divorced</td>\n",
       "      <td>57</td>\n",
       "      <td>355</td>\n",
       "      <td>1</td>\n",
       "      <td>primary</td>\n",
       "      <td>no</td>\n",
       "      <td>yes</td>\n",
       "      <td>yes</td>\n",
       "      <td>no</td>\n",
       "    </tr>\n",
       "  </tbody>\n",
       "</table>\n",
       "</div>"
      ],
      "text/plain": [
       "       age   marital  balance  duration  campaign  education default housing  \\\n",
       "20643   40   married     4396       432         3  secondary      no      no   \n",
       "30774   34   married      196        59         3  secondary      no      no   \n",
       "21890   38    single       38       105         2   tertiary      no      no   \n",
       "21611   60   married     2149       222         4   tertiary      no      no   \n",
       "35368   51  divorced       57       355         1    primary      no     yes   \n",
       "\n",
       "      loan    y  \n",
       "20643   no  yes  \n",
       "30774   no   no  \n",
       "21890   no   no  \n",
       "21611   no   no  \n",
       "35368  yes   no  "
      ]
     },
     "execution_count": 14,
     "metadata": {},
     "output_type": "execute_result"
    }
   ],
   "source": [
    "file_zero = Training_file[['age', 'marital', 'balance', 'duration', 'campaign', 'education', 'default', 'housing', 'loan', 'y']] # gathering all variables unchanged\n",
    "file_zero.head()"
   ]
  },
  {
   "cell_type": "code",
   "execution_count": 15,
   "id": "c666e7a2",
   "metadata": {},
   "outputs": [
    {
     "data": {
      "text/html": [
       "<div>\n",
       "<style scoped>\n",
       "    .dataframe tbody tr th:only-of-type {\n",
       "        vertical-align: middle;\n",
       "    }\n",
       "\n",
       "    .dataframe tbody tr th {\n",
       "        vertical-align: top;\n",
       "    }\n",
       "\n",
       "    .dataframe thead th {\n",
       "        text-align: right;\n",
       "    }\n",
       "</style>\n",
       "<table border=\"1\" class=\"dataframe\">\n",
       "  <thead>\n",
       "    <tr style=\"text-align: right;\">\n",
       "      <th></th>\n",
       "      <th>age</th>\n",
       "      <th>marital</th>\n",
       "      <th>balance</th>\n",
       "      <th>duration</th>\n",
       "      <th>campaign</th>\n",
       "      <th>education</th>\n",
       "      <th>default</th>\n",
       "      <th>housing</th>\n",
       "      <th>loan</th>\n",
       "      <th>y</th>\n",
       "    </tr>\n",
       "  </thead>\n",
       "  <tbody>\n",
       "    <tr>\n",
       "      <th>32823</th>\n",
       "      <td>48</td>\n",
       "      <td>divorced</td>\n",
       "      <td>266</td>\n",
       "      <td>198</td>\n",
       "      <td>2</td>\n",
       "      <td>tertiary</td>\n",
       "      <td>no</td>\n",
       "      <td>yes</td>\n",
       "      <td>no</td>\n",
       "      <td>no</td>\n",
       "    </tr>\n",
       "    <tr>\n",
       "      <th>16298</th>\n",
       "      <td>53</td>\n",
       "      <td>divorced</td>\n",
       "      <td>84</td>\n",
       "      <td>336</td>\n",
       "      <td>1</td>\n",
       "      <td>secondary</td>\n",
       "      <td>no</td>\n",
       "      <td>no</td>\n",
       "      <td>no</td>\n",
       "      <td>no</td>\n",
       "    </tr>\n",
       "    <tr>\n",
       "      <th>28505</th>\n",
       "      <td>43</td>\n",
       "      <td>divorced</td>\n",
       "      <td>3578</td>\n",
       "      <td>376</td>\n",
       "      <td>2</td>\n",
       "      <td>tertiary</td>\n",
       "      <td>no</td>\n",
       "      <td>no</td>\n",
       "      <td>no</td>\n",
       "      <td>no</td>\n",
       "    </tr>\n",
       "    <tr>\n",
       "      <th>6689</th>\n",
       "      <td>38</td>\n",
       "      <td>married</td>\n",
       "      <td>133</td>\n",
       "      <td>156</td>\n",
       "      <td>1</td>\n",
       "      <td>secondary</td>\n",
       "      <td>no</td>\n",
       "      <td>yes</td>\n",
       "      <td>no</td>\n",
       "      <td>no</td>\n",
       "    </tr>\n",
       "    <tr>\n",
       "      <th>26893</th>\n",
       "      <td>42</td>\n",
       "      <td>married</td>\n",
       "      <td>4014</td>\n",
       "      <td>149</td>\n",
       "      <td>4</td>\n",
       "      <td>tertiary</td>\n",
       "      <td>no</td>\n",
       "      <td>yes</td>\n",
       "      <td>no</td>\n",
       "      <td>no</td>\n",
       "    </tr>\n",
       "  </tbody>\n",
       "</table>\n",
       "</div>"
      ],
      "text/plain": [
       "       age   marital  balance  duration  campaign  education default housing  \\\n",
       "32823   48  divorced      266       198         2   tertiary      no     yes   \n",
       "16298   53  divorced       84       336         1  secondary      no      no   \n",
       "28505   43  divorced     3578       376         2   tertiary      no      no   \n",
       "6689    38   married      133       156         1  secondary      no     yes   \n",
       "26893   42   married     4014       149         4   tertiary      no     yes   \n",
       "\n",
       "      loan   y  \n",
       "32823   no  no  \n",
       "16298   no  no  \n",
       "28505   no  no  \n",
       "6689    no  no  \n",
       "26893   no  no  "
      ]
     },
     "execution_count": 15,
     "metadata": {},
     "output_type": "execute_result"
    }
   ],
   "source": [
    "file_zero_Test = Testing_file[['age', 'marital', 'balance', 'duration', 'campaign', 'education', 'default', 'housing', 'loan', 'y']]\n",
    "file_zero_Test.head()"
   ]
  },
  {
   "cell_type": "code",
   "execution_count": 16,
   "id": "987440ab",
   "metadata": {},
   "outputs": [
    {
     "data": {
      "text/html": [
       "<div>\n",
       "<style scoped>\n",
       "    .dataframe tbody tr th:only-of-type {\n",
       "        vertical-align: middle;\n",
       "    }\n",
       "\n",
       "    .dataframe tbody tr th {\n",
       "        vertical-align: top;\n",
       "    }\n",
       "\n",
       "    .dataframe thead th {\n",
       "        text-align: right;\n",
       "    }\n",
       "</style>\n",
       "<table border=\"1\" class=\"dataframe\">\n",
       "  <thead>\n",
       "    <tr style=\"text-align: right;\">\n",
       "      <th></th>\n",
       "      <th>age</th>\n",
       "      <th>marital</th>\n",
       "      <th>balance</th>\n",
       "      <th>duration</th>\n",
       "      <th>campaign</th>\n",
       "      <th>education</th>\n",
       "      <th>default</th>\n",
       "      <th>housing</th>\n",
       "      <th>loan</th>\n",
       "      <th>y</th>\n",
       "    </tr>\n",
       "  </thead>\n",
       "  <tbody>\n",
       "    <tr>\n",
       "      <th>20643</th>\n",
       "      <td>40</td>\n",
       "      <td>married</td>\n",
       "      <td>4396</td>\n",
       "      <td>432</td>\n",
       "      <td>3</td>\n",
       "      <td>2</td>\n",
       "      <td>0</td>\n",
       "      <td>0</td>\n",
       "      <td>0</td>\n",
       "      <td>1</td>\n",
       "    </tr>\n",
       "    <tr>\n",
       "      <th>30774</th>\n",
       "      <td>34</td>\n",
       "      <td>married</td>\n",
       "      <td>196</td>\n",
       "      <td>59</td>\n",
       "      <td>3</td>\n",
       "      <td>2</td>\n",
       "      <td>0</td>\n",
       "      <td>0</td>\n",
       "      <td>0</td>\n",
       "      <td>0</td>\n",
       "    </tr>\n",
       "    <tr>\n",
       "      <th>21890</th>\n",
       "      <td>38</td>\n",
       "      <td>single</td>\n",
       "      <td>38</td>\n",
       "      <td>105</td>\n",
       "      <td>2</td>\n",
       "      <td>3</td>\n",
       "      <td>0</td>\n",
       "      <td>0</td>\n",
       "      <td>0</td>\n",
       "      <td>0</td>\n",
       "    </tr>\n",
       "    <tr>\n",
       "      <th>21611</th>\n",
       "      <td>60</td>\n",
       "      <td>married</td>\n",
       "      <td>2149</td>\n",
       "      <td>222</td>\n",
       "      <td>4</td>\n",
       "      <td>3</td>\n",
       "      <td>0</td>\n",
       "      <td>0</td>\n",
       "      <td>0</td>\n",
       "      <td>0</td>\n",
       "    </tr>\n",
       "    <tr>\n",
       "      <th>35368</th>\n",
       "      <td>51</td>\n",
       "      <td>divorced</td>\n",
       "      <td>57</td>\n",
       "      <td>355</td>\n",
       "      <td>1</td>\n",
       "      <td>1</td>\n",
       "      <td>0</td>\n",
       "      <td>1</td>\n",
       "      <td>1</td>\n",
       "      <td>0</td>\n",
       "    </tr>\n",
       "  </tbody>\n",
       "</table>\n",
       "</div>"
      ],
      "text/plain": [
       "       age   marital  balance  duration  campaign education default housing  \\\n",
       "20643   40   married     4396       432         3         2       0       0   \n",
       "30774   34   married      196        59         3         2       0       0   \n",
       "21890   38    single       38       105         2         3       0       0   \n",
       "21611   60   married     2149       222         4         3       0       0   \n",
       "35368   51  divorced       57       355         1         1       0       1   \n",
       "\n",
       "      loan  y  \n",
       "20643    0  1  \n",
       "30774    0  0  \n",
       "21890    0  0  \n",
       "21611    0  0  \n",
       "35368    1  0  "
      ]
     },
     "execution_count": 16,
     "metadata": {},
     "output_type": "execute_result"
    }
   ],
   "source": [
    "file_zero['education'].replace('tertiary', '3', inplace=True)\n",
    "file_zero['education'].replace('secondary', '2', inplace=True)\n",
    "file_zero['education'].replace('primary', '1', inplace=True)\n",
    "file_zero['education'].replace('unknown', '0', inplace=True) # numbering education column\n",
    "file_zero['default'].replace('no', '0', inplace=True)\n",
    "file_zero['default'].replace('yes', '1', inplace=True) # numbering default column\n",
    "file_zero['housing'].replace('no', '0', inplace=True)\n",
    "file_zero['housing'].replace('yes', '1', inplace=True) # numbering the housing column\n",
    "file_zero['loan'].replace('no', '0', inplace=True)\n",
    "file_zero['loan'].replace('yes', '1', inplace=True)\n",
    "file_zero['y'].replace('no', '0', inplace=True)\n",
    "file_zero['y'].replace('yes', '1', inplace=True) # numbering the y column\n",
    "file_zero.head()"
   ]
  },
  {
   "cell_type": "code",
   "execution_count": 17,
   "id": "b8b3ead2",
   "metadata": {},
   "outputs": [
    {
     "name": "stdout",
     "output_type": "stream",
     "text": [
      "<class 'pandas.core.frame.DataFrame'>\n",
      "Int64Index: 24000 entries, 20643 to 15795\n",
      "Data columns (total 10 columns):\n",
      " #   Column     Non-Null Count  Dtype \n",
      "---  ------     --------------  ----- \n",
      " 0   age        24000 non-null  int64 \n",
      " 1   marital    24000 non-null  object\n",
      " 2   balance    24000 non-null  int64 \n",
      " 3   duration   24000 non-null  int64 \n",
      " 4   campaign   24000 non-null  int64 \n",
      " 5   education  24000 non-null  object\n",
      " 6   default    24000 non-null  object\n",
      " 7   housing    24000 non-null  object\n",
      " 8   loan       24000 non-null  object\n",
      " 9   y          24000 non-null  object\n",
      "dtypes: int64(4), object(6)\n",
      "memory usage: 2.5+ MB\n"
     ]
    }
   ],
   "source": [
    "file_zero.info()"
   ]
  },
  {
   "cell_type": "code",
   "execution_count": 18,
   "id": "0acd43be",
   "metadata": {},
   "outputs": [
    {
     "data": {
      "text/html": [
       "<div>\n",
       "<style scoped>\n",
       "    .dataframe tbody tr th:only-of-type {\n",
       "        vertical-align: middle;\n",
       "    }\n",
       "\n",
       "    .dataframe tbody tr th {\n",
       "        vertical-align: top;\n",
       "    }\n",
       "\n",
       "    .dataframe thead th {\n",
       "        text-align: right;\n",
       "    }\n",
       "</style>\n",
       "<table border=\"1\" class=\"dataframe\">\n",
       "  <thead>\n",
       "    <tr style=\"text-align: right;\">\n",
       "      <th></th>\n",
       "      <th>age</th>\n",
       "      <th>marital</th>\n",
       "      <th>balance</th>\n",
       "      <th>duration</th>\n",
       "      <th>campaign</th>\n",
       "      <th>education</th>\n",
       "      <th>default</th>\n",
       "      <th>housing</th>\n",
       "      <th>loan</th>\n",
       "      <th>y</th>\n",
       "    </tr>\n",
       "  </thead>\n",
       "  <tbody>\n",
       "    <tr>\n",
       "      <th>32823</th>\n",
       "      <td>48</td>\n",
       "      <td>divorced</td>\n",
       "      <td>266</td>\n",
       "      <td>198</td>\n",
       "      <td>2</td>\n",
       "      <td>3</td>\n",
       "      <td>0</td>\n",
       "      <td>1</td>\n",
       "      <td>0</td>\n",
       "      <td>0</td>\n",
       "    </tr>\n",
       "    <tr>\n",
       "      <th>16298</th>\n",
       "      <td>53</td>\n",
       "      <td>divorced</td>\n",
       "      <td>84</td>\n",
       "      <td>336</td>\n",
       "      <td>1</td>\n",
       "      <td>2</td>\n",
       "      <td>0</td>\n",
       "      <td>0</td>\n",
       "      <td>0</td>\n",
       "      <td>0</td>\n",
       "    </tr>\n",
       "    <tr>\n",
       "      <th>28505</th>\n",
       "      <td>43</td>\n",
       "      <td>divorced</td>\n",
       "      <td>3578</td>\n",
       "      <td>376</td>\n",
       "      <td>2</td>\n",
       "      <td>3</td>\n",
       "      <td>0</td>\n",
       "      <td>0</td>\n",
       "      <td>0</td>\n",
       "      <td>0</td>\n",
       "    </tr>\n",
       "    <tr>\n",
       "      <th>6689</th>\n",
       "      <td>38</td>\n",
       "      <td>married</td>\n",
       "      <td>133</td>\n",
       "      <td>156</td>\n",
       "      <td>1</td>\n",
       "      <td>2</td>\n",
       "      <td>0</td>\n",
       "      <td>1</td>\n",
       "      <td>0</td>\n",
       "      <td>0</td>\n",
       "    </tr>\n",
       "    <tr>\n",
       "      <th>26893</th>\n",
       "      <td>42</td>\n",
       "      <td>married</td>\n",
       "      <td>4014</td>\n",
       "      <td>149</td>\n",
       "      <td>4</td>\n",
       "      <td>3</td>\n",
       "      <td>0</td>\n",
       "      <td>1</td>\n",
       "      <td>0</td>\n",
       "      <td>0</td>\n",
       "    </tr>\n",
       "  </tbody>\n",
       "</table>\n",
       "</div>"
      ],
      "text/plain": [
       "       age   marital  balance  duration  campaign education default housing  \\\n",
       "32823   48  divorced      266       198         2         3       0       1   \n",
       "16298   53  divorced       84       336         1         2       0       0   \n",
       "28505   43  divorced     3578       376         2         3       0       0   \n",
       "6689    38   married      133       156         1         2       0       1   \n",
       "26893   42   married     4014       149         4         3       0       1   \n",
       "\n",
       "      loan  y  \n",
       "32823    0  0  \n",
       "16298    0  0  \n",
       "28505    0  0  \n",
       "6689     0  0  \n",
       "26893    0  0  "
      ]
     },
     "execution_count": 18,
     "metadata": {},
     "output_type": "execute_result"
    }
   ],
   "source": [
    "file_zero_Test['education'].replace('tertiary', '3', inplace=True)\n",
    "file_zero_Test['education'].replace('secondary', '2', inplace=True)\n",
    "file_zero_Test['education'].replace('primary', '1', inplace=True)\n",
    "file_zero_Test['education'].replace('unknown', '0', inplace=True) # numbering education column\n",
    "file_zero_Test['default'].replace('no', '0', inplace=True)\n",
    "file_zero_Test['default'].replace('yes', '1', inplace=True) # numbering default column\n",
    "file_zero_Test['housing'].replace('no', '0', inplace=True)\n",
    "file_zero_Test['housing'].replace('yes', '1', inplace=True) # numbering the housing column\n",
    "file_zero_Test['loan'].replace('no', '0', inplace=True)\n",
    "file_zero_Test['loan'].replace('yes', '1', inplace=True)\n",
    "file_zero_Test['y'].replace('no', '0', inplace=True)\n",
    "file_zero_Test['y'].replace('yes', '1', inplace=True) # numbering the y column\n",
    "file_zero_Test.head()"
   ]
  },
  {
   "cell_type": "code",
   "execution_count": 19,
   "id": "c700b769",
   "metadata": {},
   "outputs": [
    {
     "name": "stdout",
     "output_type": "stream",
     "text": [
      "<class 'pandas.core.frame.DataFrame'>\n",
      "Int64Index: 16000 entries, 32823 to 18765\n",
      "Data columns (total 10 columns):\n",
      " #   Column     Non-Null Count  Dtype \n",
      "---  ------     --------------  ----- \n",
      " 0   age        16000 non-null  int64 \n",
      " 1   marital    16000 non-null  object\n",
      " 2   balance    16000 non-null  int64 \n",
      " 3   duration   16000 non-null  int64 \n",
      " 4   campaign   16000 non-null  int64 \n",
      " 5   education  16000 non-null  object\n",
      " 6   default    16000 non-null  object\n",
      " 7   housing    16000 non-null  object\n",
      " 8   loan       16000 non-null  object\n",
      " 9   y          16000 non-null  object\n",
      "dtypes: int64(4), object(6)\n",
      "memory usage: 1.8+ MB\n"
     ]
    }
   ],
   "source": [
    "file_zero_Test.info()"
   ]
  },
  {
   "cell_type": "code",
   "execution_count": 20,
   "id": "bb0d94b6",
   "metadata": {},
   "outputs": [
    {
     "data": {
      "text/html": [
       "<div>\n",
       "<style scoped>\n",
       "    .dataframe tbody tr th:only-of-type {\n",
       "        vertical-align: middle;\n",
       "    }\n",
       "\n",
       "    .dataframe tbody tr th {\n",
       "        vertical-align: top;\n",
       "    }\n",
       "\n",
       "    .dataframe thead th {\n",
       "        text-align: right;\n",
       "    }\n",
       "</style>\n",
       "<table border=\"1\" class=\"dataframe\">\n",
       "  <thead>\n",
       "    <tr style=\"text-align: right;\">\n",
       "      <th></th>\n",
       "      <th>age</th>\n",
       "      <th>balance</th>\n",
       "      <th>duration</th>\n",
       "      <th>campaign</th>\n",
       "      <th>education</th>\n",
       "      <th>default</th>\n",
       "      <th>housing</th>\n",
       "      <th>loan</th>\n",
       "      <th>y</th>\n",
       "      <th>divorced</th>\n",
       "      <th>married</th>\n",
       "      <th>single</th>\n",
       "    </tr>\n",
       "  </thead>\n",
       "  <tbody>\n",
       "    <tr>\n",
       "      <th>20643</th>\n",
       "      <td>40</td>\n",
       "      <td>4396</td>\n",
       "      <td>432</td>\n",
       "      <td>3</td>\n",
       "      <td>2</td>\n",
       "      <td>0</td>\n",
       "      <td>0</td>\n",
       "      <td>0</td>\n",
       "      <td>1</td>\n",
       "      <td>0</td>\n",
       "      <td>1</td>\n",
       "      <td>0</td>\n",
       "    </tr>\n",
       "    <tr>\n",
       "      <th>30774</th>\n",
       "      <td>34</td>\n",
       "      <td>196</td>\n",
       "      <td>59</td>\n",
       "      <td>3</td>\n",
       "      <td>2</td>\n",
       "      <td>0</td>\n",
       "      <td>0</td>\n",
       "      <td>0</td>\n",
       "      <td>0</td>\n",
       "      <td>0</td>\n",
       "      <td>1</td>\n",
       "      <td>0</td>\n",
       "    </tr>\n",
       "    <tr>\n",
       "      <th>21890</th>\n",
       "      <td>38</td>\n",
       "      <td>38</td>\n",
       "      <td>105</td>\n",
       "      <td>2</td>\n",
       "      <td>3</td>\n",
       "      <td>0</td>\n",
       "      <td>0</td>\n",
       "      <td>0</td>\n",
       "      <td>0</td>\n",
       "      <td>0</td>\n",
       "      <td>0</td>\n",
       "      <td>1</td>\n",
       "    </tr>\n",
       "    <tr>\n",
       "      <th>21611</th>\n",
       "      <td>60</td>\n",
       "      <td>2149</td>\n",
       "      <td>222</td>\n",
       "      <td>4</td>\n",
       "      <td>3</td>\n",
       "      <td>0</td>\n",
       "      <td>0</td>\n",
       "      <td>0</td>\n",
       "      <td>0</td>\n",
       "      <td>0</td>\n",
       "      <td>1</td>\n",
       "      <td>0</td>\n",
       "    </tr>\n",
       "    <tr>\n",
       "      <th>35368</th>\n",
       "      <td>51</td>\n",
       "      <td>57</td>\n",
       "      <td>355</td>\n",
       "      <td>1</td>\n",
       "      <td>1</td>\n",
       "      <td>0</td>\n",
       "      <td>1</td>\n",
       "      <td>1</td>\n",
       "      <td>0</td>\n",
       "      <td>1</td>\n",
       "      <td>0</td>\n",
       "      <td>0</td>\n",
       "    </tr>\n",
       "  </tbody>\n",
       "</table>\n",
       "</div>"
      ],
      "text/plain": [
       "       age  balance  duration  campaign education default housing loan  y  \\\n",
       "20643   40     4396       432         3         2       0       0    0  1   \n",
       "30774   34      196        59         3         2       0       0    0  0   \n",
       "21890   38       38       105         2         3       0       0    0  0   \n",
       "21611   60     2149       222         4         3       0       0    0  0   \n",
       "35368   51       57       355         1         1       0       1    1  0   \n",
       "\n",
       "       divorced  married  single  \n",
       "20643         0        1       0  \n",
       "30774         0        1       0  \n",
       "21890         0        0       1  \n",
       "21611         0        1       0  \n",
       "35368         1        0       0  "
      ]
     },
     "execution_count": 20,
     "metadata": {},
     "output_type": "execute_result"
    }
   ],
   "source": [
    "marital_status = pd.get_dummies(file_zero['marital']) # combined dummy variables for marriage\n",
    "file_zero['divorced'] = marital_status['divorced']\n",
    "file_zero['married'] = marital_status['married']\n",
    "file_zero['single'] = marital_status['single']\n",
    "file_zero = file_zero.drop(['marital'], axis=1) # dropped the marital status column\n",
    "file_zero.head() # job is omitted right now because dummy variables will overcomplicate algorithm, will employ later if neccessary."
   ]
  },
  {
   "cell_type": "code",
   "execution_count": 21,
   "id": "3be824c3",
   "metadata": {},
   "outputs": [
    {
     "name": "stdout",
     "output_type": "stream",
     "text": [
      "<class 'pandas.core.frame.DataFrame'>\n",
      "Int64Index: 24000 entries, 20643 to 15795\n",
      "Data columns (total 12 columns):\n",
      " #   Column     Non-Null Count  Dtype  \n",
      "---  ------     --------------  -----  \n",
      " 0   age        24000 non-null  float64\n",
      " 1   balance    24000 non-null  float64\n",
      " 2   duration   24000 non-null  float64\n",
      " 3   campaign   24000 non-null  float64\n",
      " 4   education  24000 non-null  float64\n",
      " 5   default    24000 non-null  float64\n",
      " 6   housing    24000 non-null  float64\n",
      " 7   loan       24000 non-null  float64\n",
      " 8   y          24000 non-null  float64\n",
      " 9   divorced   24000 non-null  float64\n",
      " 10  married    24000 non-null  float64\n",
      " 11  single     24000 non-null  float64\n",
      "dtypes: float64(12)\n",
      "memory usage: 2.9 MB\n"
     ]
    }
   ],
   "source": [
    "file_zero = file_zero.astype(\"float64\") # changed all the types in the table to float64 for machine learning algorithms\n",
    "file_zero.info()"
   ]
  },
  {
   "cell_type": "code",
   "execution_count": 22,
   "id": "b7f3de6b",
   "metadata": {},
   "outputs": [
    {
     "data": {
      "text/html": [
       "<div>\n",
       "<style scoped>\n",
       "    .dataframe tbody tr th:only-of-type {\n",
       "        vertical-align: middle;\n",
       "    }\n",
       "\n",
       "    .dataframe tbody tr th {\n",
       "        vertical-align: top;\n",
       "    }\n",
       "\n",
       "    .dataframe thead th {\n",
       "        text-align: right;\n",
       "    }\n",
       "</style>\n",
       "<table border=\"1\" class=\"dataframe\">\n",
       "  <thead>\n",
       "    <tr style=\"text-align: right;\">\n",
       "      <th></th>\n",
       "      <th>age</th>\n",
       "      <th>balance</th>\n",
       "      <th>duration</th>\n",
       "      <th>campaign</th>\n",
       "      <th>education</th>\n",
       "      <th>default</th>\n",
       "      <th>housing</th>\n",
       "      <th>loan</th>\n",
       "      <th>y</th>\n",
       "      <th>divorced</th>\n",
       "      <th>married</th>\n",
       "      <th>single</th>\n",
       "    </tr>\n",
       "  </thead>\n",
       "  <tbody>\n",
       "    <tr>\n",
       "      <th>32823</th>\n",
       "      <td>48</td>\n",
       "      <td>266</td>\n",
       "      <td>198</td>\n",
       "      <td>2</td>\n",
       "      <td>3</td>\n",
       "      <td>0</td>\n",
       "      <td>1</td>\n",
       "      <td>0</td>\n",
       "      <td>0</td>\n",
       "      <td>1</td>\n",
       "      <td>0</td>\n",
       "      <td>0</td>\n",
       "    </tr>\n",
       "    <tr>\n",
       "      <th>16298</th>\n",
       "      <td>53</td>\n",
       "      <td>84</td>\n",
       "      <td>336</td>\n",
       "      <td>1</td>\n",
       "      <td>2</td>\n",
       "      <td>0</td>\n",
       "      <td>0</td>\n",
       "      <td>0</td>\n",
       "      <td>0</td>\n",
       "      <td>1</td>\n",
       "      <td>0</td>\n",
       "      <td>0</td>\n",
       "    </tr>\n",
       "    <tr>\n",
       "      <th>28505</th>\n",
       "      <td>43</td>\n",
       "      <td>3578</td>\n",
       "      <td>376</td>\n",
       "      <td>2</td>\n",
       "      <td>3</td>\n",
       "      <td>0</td>\n",
       "      <td>0</td>\n",
       "      <td>0</td>\n",
       "      <td>0</td>\n",
       "      <td>1</td>\n",
       "      <td>0</td>\n",
       "      <td>0</td>\n",
       "    </tr>\n",
       "    <tr>\n",
       "      <th>6689</th>\n",
       "      <td>38</td>\n",
       "      <td>133</td>\n",
       "      <td>156</td>\n",
       "      <td>1</td>\n",
       "      <td>2</td>\n",
       "      <td>0</td>\n",
       "      <td>1</td>\n",
       "      <td>0</td>\n",
       "      <td>0</td>\n",
       "      <td>0</td>\n",
       "      <td>1</td>\n",
       "      <td>0</td>\n",
       "    </tr>\n",
       "    <tr>\n",
       "      <th>26893</th>\n",
       "      <td>42</td>\n",
       "      <td>4014</td>\n",
       "      <td>149</td>\n",
       "      <td>4</td>\n",
       "      <td>3</td>\n",
       "      <td>0</td>\n",
       "      <td>1</td>\n",
       "      <td>0</td>\n",
       "      <td>0</td>\n",
       "      <td>0</td>\n",
       "      <td>1</td>\n",
       "      <td>0</td>\n",
       "    </tr>\n",
       "  </tbody>\n",
       "</table>\n",
       "</div>"
      ],
      "text/plain": [
       "       age  balance  duration  campaign education default housing loan  y  \\\n",
       "32823   48      266       198         2         3       0       1    0  0   \n",
       "16298   53       84       336         1         2       0       0    0  0   \n",
       "28505   43     3578       376         2         3       0       0    0  0   \n",
       "6689    38      133       156         1         2       0       1    0  0   \n",
       "26893   42     4014       149         4         3       0       1    0  0   \n",
       "\n",
       "       divorced  married  single  \n",
       "32823         1        0       0  \n",
       "16298         1        0       0  \n",
       "28505         1        0       0  \n",
       "6689          0        1       0  \n",
       "26893         0        1       0  "
      ]
     },
     "execution_count": 22,
     "metadata": {},
     "output_type": "execute_result"
    }
   ],
   "source": [
    "marital_status_Test = pd.get_dummies(file_zero_Test['marital']) # combined dummy variables for marriage\n",
    "file_zero_Test['divorced'] = marital_status_Test['divorced']\n",
    "file_zero_Test['married'] = marital_status_Test['married']\n",
    "file_zero_Test['single'] = marital_status_Test['single']\n",
    "file_zero_Test = file_zero_Test.drop(['marital'], axis=1) # dropped the marital status column\n",
    "file_zero_Test.head()"
   ]
  },
  {
   "cell_type": "code",
   "execution_count": 23,
   "id": "9257e908",
   "metadata": {},
   "outputs": [
    {
     "name": "stdout",
     "output_type": "stream",
     "text": [
      "<class 'pandas.core.frame.DataFrame'>\n",
      "Int64Index: 16000 entries, 32823 to 18765\n",
      "Data columns (total 12 columns):\n",
      " #   Column     Non-Null Count  Dtype  \n",
      "---  ------     --------------  -----  \n",
      " 0   age        16000 non-null  float64\n",
      " 1   balance    16000 non-null  float64\n",
      " 2   duration   16000 non-null  float64\n",
      " 3   campaign   16000 non-null  float64\n",
      " 4   education  16000 non-null  float64\n",
      " 5   default    16000 non-null  float64\n",
      " 6   housing    16000 non-null  float64\n",
      " 7   loan       16000 non-null  float64\n",
      " 8   y          16000 non-null  float64\n",
      " 9   divorced   16000 non-null  float64\n",
      " 10  married    16000 non-null  float64\n",
      " 11  single     16000 non-null  float64\n",
      "dtypes: float64(12)\n",
      "memory usage: 2.1 MB\n"
     ]
    }
   ],
   "source": [
    "file_zero_Test = file_zero_Test.astype(\"float64\") # changed all the types in the table to float64 for machine learning algorithms\n",
    "file_zero_Test.info()"
   ]
  },
  {
   "cell_type": "code",
   "execution_count": 24,
   "id": "d3ddfed9",
   "metadata": {},
   "outputs": [
    {
     "data": {
      "text/html": [
       "<div>\n",
       "<style scoped>\n",
       "    .dataframe tbody tr th:only-of-type {\n",
       "        vertical-align: middle;\n",
       "    }\n",
       "\n",
       "    .dataframe tbody tr th {\n",
       "        vertical-align: top;\n",
       "    }\n",
       "\n",
       "    .dataframe thead th {\n",
       "        text-align: right;\n",
       "    }\n",
       "</style>\n",
       "<table border=\"1\" class=\"dataframe\">\n",
       "  <thead>\n",
       "    <tr style=\"text-align: right;\">\n",
       "      <th></th>\n",
       "      <th>age</th>\n",
       "      <th>balance</th>\n",
       "      <th>duration</th>\n",
       "      <th>campaign</th>\n",
       "      <th>education</th>\n",
       "      <th>default</th>\n",
       "      <th>housing</th>\n",
       "      <th>loan</th>\n",
       "      <th>divorced</th>\n",
       "      <th>married</th>\n",
       "      <th>single</th>\n",
       "      <th>y</th>\n",
       "    </tr>\n",
       "  </thead>\n",
       "  <tbody>\n",
       "    <tr>\n",
       "      <th>20643</th>\n",
       "      <td>40.0</td>\n",
       "      <td>4396.0</td>\n",
       "      <td>432.0</td>\n",
       "      <td>3.0</td>\n",
       "      <td>2.0</td>\n",
       "      <td>0.0</td>\n",
       "      <td>0.0</td>\n",
       "      <td>0.0</td>\n",
       "      <td>0.0</td>\n",
       "      <td>1.0</td>\n",
       "      <td>0.0</td>\n",
       "      <td>1.0</td>\n",
       "    </tr>\n",
       "    <tr>\n",
       "      <th>30774</th>\n",
       "      <td>34.0</td>\n",
       "      <td>196.0</td>\n",
       "      <td>59.0</td>\n",
       "      <td>3.0</td>\n",
       "      <td>2.0</td>\n",
       "      <td>0.0</td>\n",
       "      <td>0.0</td>\n",
       "      <td>0.0</td>\n",
       "      <td>0.0</td>\n",
       "      <td>1.0</td>\n",
       "      <td>0.0</td>\n",
       "      <td>0.0</td>\n",
       "    </tr>\n",
       "    <tr>\n",
       "      <th>21890</th>\n",
       "      <td>38.0</td>\n",
       "      <td>38.0</td>\n",
       "      <td>105.0</td>\n",
       "      <td>2.0</td>\n",
       "      <td>3.0</td>\n",
       "      <td>0.0</td>\n",
       "      <td>0.0</td>\n",
       "      <td>0.0</td>\n",
       "      <td>0.0</td>\n",
       "      <td>0.0</td>\n",
       "      <td>1.0</td>\n",
       "      <td>0.0</td>\n",
       "    </tr>\n",
       "    <tr>\n",
       "      <th>21611</th>\n",
       "      <td>60.0</td>\n",
       "      <td>2149.0</td>\n",
       "      <td>222.0</td>\n",
       "      <td>4.0</td>\n",
       "      <td>3.0</td>\n",
       "      <td>0.0</td>\n",
       "      <td>0.0</td>\n",
       "      <td>0.0</td>\n",
       "      <td>0.0</td>\n",
       "      <td>1.0</td>\n",
       "      <td>0.0</td>\n",
       "      <td>0.0</td>\n",
       "    </tr>\n",
       "    <tr>\n",
       "      <th>35368</th>\n",
       "      <td>51.0</td>\n",
       "      <td>57.0</td>\n",
       "      <td>355.0</td>\n",
       "      <td>1.0</td>\n",
       "      <td>1.0</td>\n",
       "      <td>0.0</td>\n",
       "      <td>1.0</td>\n",
       "      <td>1.0</td>\n",
       "      <td>1.0</td>\n",
       "      <td>0.0</td>\n",
       "      <td>0.0</td>\n",
       "      <td>0.0</td>\n",
       "    </tr>\n",
       "  </tbody>\n",
       "</table>\n",
       "</div>"
      ],
      "text/plain": [
       "        age  balance  duration  campaign  education  default  housing  loan  \\\n",
       "20643  40.0   4396.0     432.0       3.0        2.0      0.0      0.0   0.0   \n",
       "30774  34.0    196.0      59.0       3.0        2.0      0.0      0.0   0.0   \n",
       "21890  38.0     38.0     105.0       2.0        3.0      0.0      0.0   0.0   \n",
       "21611  60.0   2149.0     222.0       4.0        3.0      0.0      0.0   0.0   \n",
       "35368  51.0     57.0     355.0       1.0        1.0      0.0      1.0   1.0   \n",
       "\n",
       "       divorced  married  single    y  \n",
       "20643       0.0      1.0     0.0  1.0  \n",
       "30774       0.0      1.0     0.0  0.0  \n",
       "21890       0.0      0.0     1.0  0.0  \n",
       "21611       0.0      1.0     0.0  0.0  \n",
       "35368       1.0      0.0     0.0  0.0  "
      ]
     },
     "execution_count": 24,
     "metadata": {},
     "output_type": "execute_result"
    }
   ],
   "source": [
    "file_zero = file_zero[['age', 'balance', 'duration', 'campaign', 'education', 'default', 'housing', 'loan', 'divorced', 'married', 'single', 'y']]\n",
    "file_zero.head() # Now the data is ready to be split and put through machine learning algorithms"
   ]
  },
  {
   "cell_type": "code",
   "execution_count": 25,
   "id": "724165c7",
   "metadata": {},
   "outputs": [
    {
     "data": {
      "text/html": [
       "<div>\n",
       "<style scoped>\n",
       "    .dataframe tbody tr th:only-of-type {\n",
       "        vertical-align: middle;\n",
       "    }\n",
       "\n",
       "    .dataframe tbody tr th {\n",
       "        vertical-align: top;\n",
       "    }\n",
       "\n",
       "    .dataframe thead th {\n",
       "        text-align: right;\n",
       "    }\n",
       "</style>\n",
       "<table border=\"1\" class=\"dataframe\">\n",
       "  <thead>\n",
       "    <tr style=\"text-align: right;\">\n",
       "      <th></th>\n",
       "      <th>age</th>\n",
       "      <th>balance</th>\n",
       "      <th>duration</th>\n",
       "      <th>campaign</th>\n",
       "      <th>education</th>\n",
       "      <th>default</th>\n",
       "      <th>housing</th>\n",
       "      <th>loan</th>\n",
       "      <th>divorced</th>\n",
       "      <th>married</th>\n",
       "      <th>single</th>\n",
       "      <th>y</th>\n",
       "    </tr>\n",
       "  </thead>\n",
       "  <tbody>\n",
       "    <tr>\n",
       "      <th>32823</th>\n",
       "      <td>48.0</td>\n",
       "      <td>266.0</td>\n",
       "      <td>198.0</td>\n",
       "      <td>2.0</td>\n",
       "      <td>3.0</td>\n",
       "      <td>0.0</td>\n",
       "      <td>1.0</td>\n",
       "      <td>0.0</td>\n",
       "      <td>1.0</td>\n",
       "      <td>0.0</td>\n",
       "      <td>0.0</td>\n",
       "      <td>0.0</td>\n",
       "    </tr>\n",
       "    <tr>\n",
       "      <th>16298</th>\n",
       "      <td>53.0</td>\n",
       "      <td>84.0</td>\n",
       "      <td>336.0</td>\n",
       "      <td>1.0</td>\n",
       "      <td>2.0</td>\n",
       "      <td>0.0</td>\n",
       "      <td>0.0</td>\n",
       "      <td>0.0</td>\n",
       "      <td>1.0</td>\n",
       "      <td>0.0</td>\n",
       "      <td>0.0</td>\n",
       "      <td>0.0</td>\n",
       "    </tr>\n",
       "    <tr>\n",
       "      <th>28505</th>\n",
       "      <td>43.0</td>\n",
       "      <td>3578.0</td>\n",
       "      <td>376.0</td>\n",
       "      <td>2.0</td>\n",
       "      <td>3.0</td>\n",
       "      <td>0.0</td>\n",
       "      <td>0.0</td>\n",
       "      <td>0.0</td>\n",
       "      <td>1.0</td>\n",
       "      <td>0.0</td>\n",
       "      <td>0.0</td>\n",
       "      <td>0.0</td>\n",
       "    </tr>\n",
       "    <tr>\n",
       "      <th>6689</th>\n",
       "      <td>38.0</td>\n",
       "      <td>133.0</td>\n",
       "      <td>156.0</td>\n",
       "      <td>1.0</td>\n",
       "      <td>2.0</td>\n",
       "      <td>0.0</td>\n",
       "      <td>1.0</td>\n",
       "      <td>0.0</td>\n",
       "      <td>0.0</td>\n",
       "      <td>1.0</td>\n",
       "      <td>0.0</td>\n",
       "      <td>0.0</td>\n",
       "    </tr>\n",
       "    <tr>\n",
       "      <th>26893</th>\n",
       "      <td>42.0</td>\n",
       "      <td>4014.0</td>\n",
       "      <td>149.0</td>\n",
       "      <td>4.0</td>\n",
       "      <td>3.0</td>\n",
       "      <td>0.0</td>\n",
       "      <td>1.0</td>\n",
       "      <td>0.0</td>\n",
       "      <td>0.0</td>\n",
       "      <td>1.0</td>\n",
       "      <td>0.0</td>\n",
       "      <td>0.0</td>\n",
       "    </tr>\n",
       "  </tbody>\n",
       "</table>\n",
       "</div>"
      ],
      "text/plain": [
       "        age  balance  duration  campaign  education  default  housing  loan  \\\n",
       "32823  48.0    266.0     198.0       2.0        3.0      0.0      1.0   0.0   \n",
       "16298  53.0     84.0     336.0       1.0        2.0      0.0      0.0   0.0   \n",
       "28505  43.0   3578.0     376.0       2.0        3.0      0.0      0.0   0.0   \n",
       "6689   38.0    133.0     156.0       1.0        2.0      0.0      1.0   0.0   \n",
       "26893  42.0   4014.0     149.0       4.0        3.0      0.0      1.0   0.0   \n",
       "\n",
       "       divorced  married  single    y  \n",
       "32823       1.0      0.0     0.0  0.0  \n",
       "16298       1.0      0.0     0.0  0.0  \n",
       "28505       1.0      0.0     0.0  0.0  \n",
       "6689        0.0      1.0     0.0  0.0  \n",
       "26893       0.0      1.0     0.0  0.0  "
      ]
     },
     "execution_count": 25,
     "metadata": {},
     "output_type": "execute_result"
    }
   ],
   "source": [
    "file_zero_Test = file_zero_Test[['age', 'balance', 'duration', 'campaign', 'education', 'default', 'housing', 'loan', 'divorced', 'married', 'single', 'y']]\n",
    "file_zero_Test.head()"
   ]
  },
  {
   "cell_type": "code",
   "execution_count": 26,
   "id": "3d609abe",
   "metadata": {},
   "outputs": [
    {
     "data": {
      "image/png": "[encoded data removed]",
      "text/plain": [
       "<Figure size 1440x720 with 2 Axes>"
      ]
     },
     "metadata": {
      "needs_background": "light"
     },
     "output_type": "display_data"
    }
   ],
   "source": [
    "plt.figure(figsize=(20, 10))\n",
    "file_zero.corr().abs()\n",
    "z = file_zero.corr().abs()\n",
    "sns.heatmap(data=z, annot=True, cmap='BuPu')\n",
    "plt.show()"
   ]
  },
  {
   "cell_type": "markdown",
   "id": "a5af6ada",
   "metadata": {},
   "source": [
    "There's a strong correlation between married and single columns, but these columns are a dummy variable situation and maybe only married needs to be present."
   ]
  },
  {
   "cell_type": "code",
   "execution_count": 27,
   "id": "078bfebc",
   "metadata": {},
   "outputs": [
    {
     "data": {
      "text/html": [
       "<div>\n",
       "<style scoped>\n",
       "    .dataframe tbody tr th:only-of-type {\n",
       "        vertical-align: middle;\n",
       "    }\n",
       "\n",
       "    .dataframe tbody tr th {\n",
       "        vertical-align: top;\n",
       "    }\n",
       "\n",
       "    .dataframe thead th {\n",
       "        text-align: right;\n",
       "    }\n",
       "</style>\n",
       "<table border=\"1\" class=\"dataframe\">\n",
       "  <thead>\n",
       "    <tr style=\"text-align: right;\">\n",
       "      <th></th>\n",
       "      <th>age</th>\n",
       "      <th>balance</th>\n",
       "      <th>duration</th>\n",
       "      <th>campaign</th>\n",
       "      <th>education</th>\n",
       "      <th>default</th>\n",
       "      <th>housing</th>\n",
       "      <th>loan</th>\n",
       "      <th>married</th>\n",
       "      <th>y</th>\n",
       "    </tr>\n",
       "  </thead>\n",
       "  <tbody>\n",
       "    <tr>\n",
       "      <th>20643</th>\n",
       "      <td>40.0</td>\n",
       "      <td>4396.0</td>\n",
       "      <td>432.0</td>\n",
       "      <td>3.0</td>\n",
       "      <td>2.0</td>\n",
       "      <td>0.0</td>\n",
       "      <td>0.0</td>\n",
       "      <td>0.0</td>\n",
       "      <td>1.0</td>\n",
       "      <td>1.0</td>\n",
       "    </tr>\n",
       "    <tr>\n",
       "      <th>30774</th>\n",
       "      <td>34.0</td>\n",
       "      <td>196.0</td>\n",
       "      <td>59.0</td>\n",
       "      <td>3.0</td>\n",
       "      <td>2.0</td>\n",
       "      <td>0.0</td>\n",
       "      <td>0.0</td>\n",
       "      <td>0.0</td>\n",
       "      <td>1.0</td>\n",
       "      <td>0.0</td>\n",
       "    </tr>\n",
       "    <tr>\n",
       "      <th>21890</th>\n",
       "      <td>38.0</td>\n",
       "      <td>38.0</td>\n",
       "      <td>105.0</td>\n",
       "      <td>2.0</td>\n",
       "      <td>3.0</td>\n",
       "      <td>0.0</td>\n",
       "      <td>0.0</td>\n",
       "      <td>0.0</td>\n",
       "      <td>0.0</td>\n",
       "      <td>0.0</td>\n",
       "    </tr>\n",
       "    <tr>\n",
       "      <th>21611</th>\n",
       "      <td>60.0</td>\n",
       "      <td>2149.0</td>\n",
       "      <td>222.0</td>\n",
       "      <td>4.0</td>\n",
       "      <td>3.0</td>\n",
       "      <td>0.0</td>\n",
       "      <td>0.0</td>\n",
       "      <td>0.0</td>\n",
       "      <td>1.0</td>\n",
       "      <td>0.0</td>\n",
       "    </tr>\n",
       "    <tr>\n",
       "      <th>35368</th>\n",
       "      <td>51.0</td>\n",
       "      <td>57.0</td>\n",
       "      <td>355.0</td>\n",
       "      <td>1.0</td>\n",
       "      <td>1.0</td>\n",
       "      <td>0.0</td>\n",
       "      <td>1.0</td>\n",
       "      <td>1.0</td>\n",
       "      <td>0.0</td>\n",
       "      <td>0.0</td>\n",
       "    </tr>\n",
       "  </tbody>\n",
       "</table>\n",
       "</div>"
      ],
      "text/plain": [
       "        age  balance  duration  campaign  education  default  housing  loan  \\\n",
       "20643  40.0   4396.0     432.0       3.0        2.0      0.0      0.0   0.0   \n",
       "30774  34.0    196.0      59.0       3.0        2.0      0.0      0.0   0.0   \n",
       "21890  38.0     38.0     105.0       2.0        3.0      0.0      0.0   0.0   \n",
       "21611  60.0   2149.0     222.0       4.0        3.0      0.0      0.0   0.0   \n",
       "35368  51.0     57.0     355.0       1.0        1.0      0.0      1.0   1.0   \n",
       "\n",
       "       married    y  \n",
       "20643      1.0  1.0  \n",
       "30774      1.0  0.0  \n",
       "21890      0.0  0.0  \n",
       "21611      1.0  0.0  \n",
       "35368      0.0  0.0  "
      ]
     },
     "execution_count": 27,
     "metadata": {},
     "output_type": "execute_result"
    }
   ],
   "source": [
    "file_zero = file_zero.drop(['single', 'divorced'], axis=1)\n",
    "file_zero.head()"
   ]
  },
  {
   "cell_type": "code",
   "execution_count": 28,
   "id": "a2779425",
   "metadata": {},
   "outputs": [
    {
     "data": {
      "image/png": "[encoded data removed]",
      "text/plain": [
       "<Figure size 1440x720 with 2 Axes>"
      ]
     },
     "metadata": {
      "needs_background": "light"
     },
     "output_type": "display_data"
    }
   ],
   "source": [
    "plt.figure(figsize=(20, 10))\n",
    "file_zero.corr().abs()\n",
    "z = file_zero.corr().abs()\n",
    "sns.heatmap(data=z, annot=True, cmap='BuPu')\n",
    "plt.show()"
   ]
  },
  {
   "cell_type": "code",
   "execution_count": 29,
   "id": "5e3c5ff7",
   "metadata": {},
   "outputs": [
    {
     "data": {
      "text/html": [
       "<div>\n",
       "<style scoped>\n",
       "    .dataframe tbody tr th:only-of-type {\n",
       "        vertical-align: middle;\n",
       "    }\n",
       "\n",
       "    .dataframe tbody tr th {\n",
       "        vertical-align: top;\n",
       "    }\n",
       "\n",
       "    .dataframe thead th {\n",
       "        text-align: right;\n",
       "    }\n",
       "</style>\n",
       "<table border=\"1\" class=\"dataframe\">\n",
       "  <thead>\n",
       "    <tr style=\"text-align: right;\">\n",
       "      <th></th>\n",
       "      <th>age</th>\n",
       "      <th>balance</th>\n",
       "      <th>duration</th>\n",
       "      <th>campaign</th>\n",
       "      <th>education</th>\n",
       "      <th>default</th>\n",
       "      <th>housing</th>\n",
       "      <th>loan</th>\n",
       "      <th>married</th>\n",
       "      <th>y</th>\n",
       "    </tr>\n",
       "  </thead>\n",
       "  <tbody>\n",
       "    <tr>\n",
       "      <th>32823</th>\n",
       "      <td>48.0</td>\n",
       "      <td>266.0</td>\n",
       "      <td>198.0</td>\n",
       "      <td>2.0</td>\n",
       "      <td>3.0</td>\n",
       "      <td>0.0</td>\n",
       "      <td>1.0</td>\n",
       "      <td>0.0</td>\n",
       "      <td>0.0</td>\n",
       "      <td>0.0</td>\n",
       "    </tr>\n",
       "    <tr>\n",
       "      <th>16298</th>\n",
       "      <td>53.0</td>\n",
       "      <td>84.0</td>\n",
       "      <td>336.0</td>\n",
       "      <td>1.0</td>\n",
       "      <td>2.0</td>\n",
       "      <td>0.0</td>\n",
       "      <td>0.0</td>\n",
       "      <td>0.0</td>\n",
       "      <td>0.0</td>\n",
       "      <td>0.0</td>\n",
       "    </tr>\n",
       "    <tr>\n",
       "      <th>28505</th>\n",
       "      <td>43.0</td>\n",
       "      <td>3578.0</td>\n",
       "      <td>376.0</td>\n",
       "      <td>2.0</td>\n",
       "      <td>3.0</td>\n",
       "      <td>0.0</td>\n",
       "      <td>0.0</td>\n",
       "      <td>0.0</td>\n",
       "      <td>0.0</td>\n",
       "      <td>0.0</td>\n",
       "    </tr>\n",
       "    <tr>\n",
       "      <th>6689</th>\n",
       "      <td>38.0</td>\n",
       "      <td>133.0</td>\n",
       "      <td>156.0</td>\n",
       "      <td>1.0</td>\n",
       "      <td>2.0</td>\n",
       "      <td>0.0</td>\n",
       "      <td>1.0</td>\n",
       "      <td>0.0</td>\n",
       "      <td>1.0</td>\n",
       "      <td>0.0</td>\n",
       "    </tr>\n",
       "    <tr>\n",
       "      <th>26893</th>\n",
       "      <td>42.0</td>\n",
       "      <td>4014.0</td>\n",
       "      <td>149.0</td>\n",
       "      <td>4.0</td>\n",
       "      <td>3.0</td>\n",
       "      <td>0.0</td>\n",
       "      <td>1.0</td>\n",
       "      <td>0.0</td>\n",
       "      <td>1.0</td>\n",
       "      <td>0.0</td>\n",
       "    </tr>\n",
       "  </tbody>\n",
       "</table>\n",
       "</div>"
      ],
      "text/plain": [
       "        age  balance  duration  campaign  education  default  housing  loan  \\\n",
       "32823  48.0    266.0     198.0       2.0        3.0      0.0      1.0   0.0   \n",
       "16298  53.0     84.0     336.0       1.0        2.0      0.0      0.0   0.0   \n",
       "28505  43.0   3578.0     376.0       2.0        3.0      0.0      0.0   0.0   \n",
       "6689   38.0    133.0     156.0       1.0        2.0      0.0      1.0   0.0   \n",
       "26893  42.0   4014.0     149.0       4.0        3.0      0.0      1.0   0.0   \n",
       "\n",
       "       married    y  \n",
       "32823      0.0  0.0  \n",
       "16298      0.0  0.0  \n",
       "28505      0.0  0.0  \n",
       "6689       1.0  0.0  \n",
       "26893      1.0  0.0  "
      ]
     },
     "execution_count": 29,
     "metadata": {},
     "output_type": "execute_result"
    }
   ],
   "source": [
    "file_zero_Test = file_zero_Test.drop(['single', 'divorced'], axis=1)\n",
    "file_zero_Test.head()"
   ]
  },
  {
   "cell_type": "markdown",
   "id": "5c66a4f8",
   "metadata": {},
   "source": [
    "### Splitting Up The File Into Training And Testing Sets"
   ]
  },
  {
   "cell_type": "code",
   "execution_count": 30,
   "id": "b0b89bb0",
   "metadata": {},
   "outputs": [],
   "source": [
    "X_zero = file_zero.drop(['y'], axis=1)\n",
    "y_zero = file_zero['y']"
   ]
  },
  {
   "cell_type": "code",
   "execution_count": 31,
   "id": "06dae737",
   "metadata": {},
   "outputs": [],
   "source": [
    "X_train_zero, X_test_zero, y_train_zero, y_test_zero = train_test_split(X_zero, y_zero, test_size=0.4, random_state=42)"
   ]
  },
  {
   "cell_type": "markdown",
   "id": "d5875a02",
   "metadata": {},
   "source": [
    "### Running file_zero through the machine learning algorithms; test results for training data"
   ]
  },
  {
   "cell_type": "markdown",
   "id": "868091d2",
   "metadata": {},
   "source": [
    "#### Logistic Regression"
   ]
  },
  {
   "cell_type": "code",
   "execution_count": 32,
   "id": "a9a949a3",
   "metadata": {},
   "outputs": [
    {
     "name": "stdout",
     "output_type": "stream",
     "text": [
      "Accuracy of logistic regression classifier on test set: 0.93\n",
      "\n",
      "Confusion matrix: \n",
      " [[8806  110]\n",
      " [ 550  134]]\n",
      "\n",
      "Classification report: \n",
      "               precision    recall  f1-score   support\n",
      "\n",
      "         0.0       0.94      0.99      0.96      8916\n",
      "         1.0       0.55      0.20      0.29       684\n",
      "\n",
      "    accuracy                           0.93      9600\n",
      "   macro avg       0.75      0.59      0.63      9600\n",
      "weighted avg       0.91      0.93      0.92      9600\n",
      "\n"
     ]
    },
    {
     "data": {
      "image/png": "[encoded data removed]",
      "text/plain": [
       "<Figure size 432x288 with 1 Axes>"
      ]
     },
     "metadata": {
      "needs_background": "light"
     },
     "output_type": "display_data"
    },
    {
     "data": {
      "text/plain": [
       "LogisticRegression(C=5.1794746792312125e-05)"
      ]
     },
     "execution_count": 32,
     "metadata": {},
     "output_type": "execute_result"
    }
   ],
   "source": [
    "run_regression_accuracy(X_train_zero, y_train_zero, X_test_zero, y_test_zero)"
   ]
  },
  {
   "cell_type": "markdown",
   "id": "e990e01f",
   "metadata": {},
   "source": [
    "#### Random Forest"
   ]
  },
  {
   "cell_type": "code",
   "execution_count": 33,
   "id": "4686b797",
   "metadata": {},
   "outputs": [
    {
     "name": "stdout",
     "output_type": "stream",
     "text": [
      "Accuracy of random forest classifier on test set: 0.93\n",
      "\n",
      "Confusion matrix: \n",
      " [[8763  153]\n",
      " [ 526  158]]\n",
      "\n",
      "Classification report: \n",
      "               precision    recall  f1-score   support\n",
      "\n",
      "         0.0       0.94      0.98      0.96      8916\n",
      "         1.0       0.51      0.23      0.32       684\n",
      "\n",
      "    accuracy                           0.93      9600\n",
      "   macro avg       0.73      0.61      0.64      9600\n",
      "weighted avg       0.91      0.93      0.92      9600\n",
      "\n"
     ]
    },
    {
     "data": {
      "image/png": "[encoded data removed]",
      "text/plain": [
       "<Figure size 432x288 with 1 Axes>"
      ]
     },
     "metadata": {
      "needs_background": "light"
     },
     "output_type": "display_data"
    },
    {
     "data": {
      "text/plain": [
       "RandomForestClassifier(max_depth=11, n_estimators=41, random_state=1)"
      ]
     },
     "execution_count": 33,
     "metadata": {},
     "output_type": "execute_result"
    }
   ],
   "source": [
    "run_random_forest_accuracy(X_train_zero, y_train_zero, X_test_zero, y_test_zero)"
   ]
  },
  {
   "cell_type": "markdown",
   "id": "14ce7175",
   "metadata": {},
   "source": [
    "#### Decision Tree"
   ]
  },
  {
   "cell_type": "code",
   "execution_count": 34,
   "id": "ba55d919",
   "metadata": {},
   "outputs": [
    {
     "name": "stdout",
     "output_type": "stream",
     "text": [
      "Accuracy of decision tree on test set: 0.93\n",
      "\n",
      "Confusion matrix: \n",
      " [[8791  125]\n",
      " [ 537  147]]\n",
      "\n",
      "Classification report: \n",
      "               precision    recall  f1-score   support\n",
      "\n",
      "         0.0       0.94      0.99      0.96      8916\n",
      "         1.0       0.54      0.21      0.31       684\n",
      "\n",
      "    accuracy                           0.93      9600\n",
      "   macro avg       0.74      0.60      0.64      9600\n",
      "weighted avg       0.91      0.93      0.92      9600\n",
      "\n"
     ]
    },
    {
     "data": {
      "image/png": "[encoded data removed]",
      "text/plain": [
       "<Figure size 432x288 with 1 Axes>"
      ]
     },
     "metadata": {
      "needs_background": "light"
     },
     "output_type": "display_data"
    },
    {
     "data": {
      "text/plain": [
       "DecisionTreeClassifier(max_depth=3)"
      ]
     },
     "execution_count": 34,
     "metadata": {},
     "output_type": "execute_result"
    }
   ],
   "source": [
    "run_decision_tree_accuracy(X_train_zero, y_train_zero, X_test_zero, y_test_zero)"
   ]
  },
  {
   "cell_type": "markdown",
   "id": "3ff89fca",
   "metadata": {},
   "source": [
    "The class imbalance with file_zero caused mis-classification of positive classes.  Now, the origional training data will be re-used and transformed into a new data set with a balance class distribution.  The process will be sampling the positive class set with replacement and concatenating the positives to the training dataset to create a new file called file_one."
   ]
  },
  {
   "cell_type": "markdown",
   "id": "0e7d4723",
   "metadata": {},
   "source": [
    "# Extracting positive samples from the Training File"
   ]
  },
  {
   "cell_type": "code",
   "execution_count": 35,
   "id": "faf2b650",
   "metadata": {},
   "outputs": [
    {
     "data": {
      "text/html": [
       "<div>\n",
       "<style scoped>\n",
       "    .dataframe tbody tr th:only-of-type {\n",
       "        vertical-align: middle;\n",
       "    }\n",
       "\n",
       "    .dataframe tbody tr th {\n",
       "        vertical-align: top;\n",
       "    }\n",
       "\n",
       "    .dataframe thead th {\n",
       "        text-align: right;\n",
       "    }\n",
       "</style>\n",
       "<table border=\"1\" class=\"dataframe\">\n",
       "  <thead>\n",
       "    <tr style=\"text-align: right;\">\n",
       "      <th></th>\n",
       "      <th>age</th>\n",
       "      <th>balance</th>\n",
       "      <th>duration</th>\n",
       "      <th>campaign</th>\n",
       "      <th>education</th>\n",
       "      <th>default</th>\n",
       "      <th>housing</th>\n",
       "      <th>loan</th>\n",
       "      <th>married</th>\n",
       "      <th>y</th>\n",
       "    </tr>\n",
       "  </thead>\n",
       "  <tbody>\n",
       "    <tr>\n",
       "      <th>20643</th>\n",
       "      <td>40.0</td>\n",
       "      <td>4396.0</td>\n",
       "      <td>432.0</td>\n",
       "      <td>3.0</td>\n",
       "      <td>2.0</td>\n",
       "      <td>0.0</td>\n",
       "      <td>0.0</td>\n",
       "      <td>0.0</td>\n",
       "      <td>1.0</td>\n",
       "      <td>1.0</td>\n",
       "    </tr>\n",
       "    <tr>\n",
       "      <th>38428</th>\n",
       "      <td>28.0</td>\n",
       "      <td>341.0</td>\n",
       "      <td>437.0</td>\n",
       "      <td>3.0</td>\n",
       "      <td>2.0</td>\n",
       "      <td>0.0</td>\n",
       "      <td>1.0</td>\n",
       "      <td>0.0</td>\n",
       "      <td>0.0</td>\n",
       "      <td>1.0</td>\n",
       "    </tr>\n",
       "    <tr>\n",
       "      <th>15050</th>\n",
       "      <td>52.0</td>\n",
       "      <td>1405.0</td>\n",
       "      <td>753.0</td>\n",
       "      <td>2.0</td>\n",
       "      <td>2.0</td>\n",
       "      <td>0.0</td>\n",
       "      <td>0.0</td>\n",
       "      <td>1.0</td>\n",
       "      <td>1.0</td>\n",
       "      <td>1.0</td>\n",
       "    </tr>\n",
       "    <tr>\n",
       "      <th>9578</th>\n",
       "      <td>35.0</td>\n",
       "      <td>68.0</td>\n",
       "      <td>1085.0</td>\n",
       "      <td>1.0</td>\n",
       "      <td>3.0</td>\n",
       "      <td>0.0</td>\n",
       "      <td>0.0</td>\n",
       "      <td>0.0</td>\n",
       "      <td>0.0</td>\n",
       "      <td>1.0</td>\n",
       "    </tr>\n",
       "    <tr>\n",
       "      <th>12320</th>\n",
       "      <td>27.0</td>\n",
       "      <td>335.0</td>\n",
       "      <td>519.0</td>\n",
       "      <td>3.0</td>\n",
       "      <td>3.0</td>\n",
       "      <td>0.0</td>\n",
       "      <td>1.0</td>\n",
       "      <td>0.0</td>\n",
       "      <td>1.0</td>\n",
       "      <td>1.0</td>\n",
       "    </tr>\n",
       "    <tr>\n",
       "      <th>...</th>\n",
       "      <td>...</td>\n",
       "      <td>...</td>\n",
       "      <td>...</td>\n",
       "      <td>...</td>\n",
       "      <td>...</td>\n",
       "      <td>...</td>\n",
       "      <td>...</td>\n",
       "      <td>...</td>\n",
       "      <td>...</td>\n",
       "      <td>...</td>\n",
       "    </tr>\n",
       "    <tr>\n",
       "      <th>8392</th>\n",
       "      <td>31.0</td>\n",
       "      <td>86.0</td>\n",
       "      <td>963.0</td>\n",
       "      <td>2.0</td>\n",
       "      <td>2.0</td>\n",
       "      <td>0.0</td>\n",
       "      <td>1.0</td>\n",
       "      <td>1.0</td>\n",
       "      <td>1.0</td>\n",
       "      <td>1.0</td>\n",
       "    </tr>\n",
       "    <tr>\n",
       "      <th>13986</th>\n",
       "      <td>26.0</td>\n",
       "      <td>45.0</td>\n",
       "      <td>1187.0</td>\n",
       "      <td>3.0</td>\n",
       "      <td>3.0</td>\n",
       "      <td>0.0</td>\n",
       "      <td>0.0</td>\n",
       "      <td>0.0</td>\n",
       "      <td>0.0</td>\n",
       "      <td>1.0</td>\n",
       "    </tr>\n",
       "    <tr>\n",
       "      <th>39099</th>\n",
       "      <td>29.0</td>\n",
       "      <td>476.0</td>\n",
       "      <td>427.0</td>\n",
       "      <td>1.0</td>\n",
       "      <td>3.0</td>\n",
       "      <td>0.0</td>\n",
       "      <td>1.0</td>\n",
       "      <td>0.0</td>\n",
       "      <td>0.0</td>\n",
       "      <td>1.0</td>\n",
       "    </tr>\n",
       "    <tr>\n",
       "      <th>16023</th>\n",
       "      <td>35.0</td>\n",
       "      <td>328.0</td>\n",
       "      <td>654.0</td>\n",
       "      <td>2.0</td>\n",
       "      <td>3.0</td>\n",
       "      <td>0.0</td>\n",
       "      <td>1.0</td>\n",
       "      <td>0.0</td>\n",
       "      <td>1.0</td>\n",
       "      <td>1.0</td>\n",
       "    </tr>\n",
       "    <tr>\n",
       "      <th>11284</th>\n",
       "      <td>44.0</td>\n",
       "      <td>1059.0</td>\n",
       "      <td>2093.0</td>\n",
       "      <td>1.0</td>\n",
       "      <td>1.0</td>\n",
       "      <td>0.0</td>\n",
       "      <td>0.0</td>\n",
       "      <td>0.0</td>\n",
       "      <td>0.0</td>\n",
       "      <td>1.0</td>\n",
       "    </tr>\n",
       "  </tbody>\n",
       "</table>\n",
       "<p>1737 rows × 10 columns</p>\n",
       "</div>"
      ],
      "text/plain": [
       "        age  balance  duration  campaign  education  default  housing  loan  \\\n",
       "20643  40.0   4396.0     432.0       3.0        2.0      0.0      0.0   0.0   \n",
       "38428  28.0    341.0     437.0       3.0        2.0      0.0      1.0   0.0   \n",
       "15050  52.0   1405.0     753.0       2.0        2.0      0.0      0.0   1.0   \n",
       "9578   35.0     68.0    1085.0       1.0        3.0      0.0      0.0   0.0   \n",
       "12320  27.0    335.0     519.0       3.0        3.0      0.0      1.0   0.0   \n",
       "...     ...      ...       ...       ...        ...      ...      ...   ...   \n",
       "8392   31.0     86.0     963.0       2.0        2.0      0.0      1.0   1.0   \n",
       "13986  26.0     45.0    1187.0       3.0        3.0      0.0      0.0   0.0   \n",
       "39099  29.0    476.0     427.0       1.0        3.0      0.0      1.0   0.0   \n",
       "16023  35.0    328.0     654.0       2.0        3.0      0.0      1.0   0.0   \n",
       "11284  44.0   1059.0    2093.0       1.0        1.0      0.0      0.0   0.0   \n",
       "\n",
       "       married    y  \n",
       "20643      1.0  1.0  \n",
       "38428      0.0  1.0  \n",
       "15050      1.0  1.0  \n",
       "9578       0.0  1.0  \n",
       "12320      1.0  1.0  \n",
       "...        ...  ...  \n",
       "8392       1.0  1.0  \n",
       "13986      0.0  1.0  \n",
       "39099      0.0  1.0  \n",
       "16023      1.0  1.0  \n",
       "11284      0.0  1.0  \n",
       "\n",
       "[1737 rows x 10 columns]"
      ]
     },
     "execution_count": 35,
     "metadata": {},
     "output_type": "execute_result"
    }
   ],
   "source": [
    "positive_samples = file_zero.loc[file['y'] == 'yes'] # extracting all rows with positive class\n",
    "positive_samples"
   ]
  },
  {
   "cell_type": "code",
   "execution_count": 36,
   "id": "7f3413a8",
   "metadata": {},
   "outputs": [
    {
     "data": {
      "text/plain": [
       "0.0    22263\n",
       "1.0     1737\n",
       "Name: y, dtype: int64"
      ]
     },
     "execution_count": 36,
     "metadata": {},
     "output_type": "execute_result"
    }
   ],
   "source": [
    "file_zero['y'].value_counts() # Numerical confirmation"
   ]
  },
  {
   "cell_type": "code",
   "execution_count": 37,
   "id": "7c2a63d4",
   "metadata": {},
   "outputs": [
    {
     "data": {
      "text/plain": [
       "age          20526\n",
       "balance      20526\n",
       "duration     20526\n",
       "campaign     20526\n",
       "education    20526\n",
       "default      20526\n",
       "housing      20526\n",
       "loan         20526\n",
       "married      20526\n",
       "y            20526\n",
       "dtype: int64"
      ]
     },
     "execution_count": 37,
     "metadata": {},
     "output_type": "execute_result"
    }
   ],
   "source": [
    "file_zero.loc[file['y'] == 'no'].count() - file_zero.loc[file['y'] == 'yes'].count() # difference between number of each class cases so that the number of samples can be determined"
   ]
  },
  {
   "cell_type": "code",
   "execution_count": 38,
   "id": "1abf24e8",
   "metadata": {},
   "outputs": [
    {
     "data": {
      "text/html": [
       "<div>\n",
       "<style scoped>\n",
       "    .dataframe tbody tr th:only-of-type {\n",
       "        vertical-align: middle;\n",
       "    }\n",
       "\n",
       "    .dataframe tbody tr th {\n",
       "        vertical-align: top;\n",
       "    }\n",
       "\n",
       "    .dataframe thead th {\n",
       "        text-align: right;\n",
       "    }\n",
       "</style>\n",
       "<table border=\"1\" class=\"dataframe\">\n",
       "  <thead>\n",
       "    <tr style=\"text-align: right;\">\n",
       "      <th></th>\n",
       "      <th>age</th>\n",
       "      <th>balance</th>\n",
       "      <th>duration</th>\n",
       "      <th>campaign</th>\n",
       "      <th>education</th>\n",
       "      <th>default</th>\n",
       "      <th>housing</th>\n",
       "      <th>loan</th>\n",
       "      <th>married</th>\n",
       "      <th>y</th>\n",
       "    </tr>\n",
       "  </thead>\n",
       "  <tbody>\n",
       "    <tr>\n",
       "      <th>39881</th>\n",
       "      <td>50.0</td>\n",
       "      <td>3370.0</td>\n",
       "      <td>160.0</td>\n",
       "      <td>2.0</td>\n",
       "      <td>2.0</td>\n",
       "      <td>0.0</td>\n",
       "      <td>0.0</td>\n",
       "      <td>0.0</td>\n",
       "      <td>1.0</td>\n",
       "      <td>1.0</td>\n",
       "    </tr>\n",
       "    <tr>\n",
       "      <th>30803</th>\n",
       "      <td>22.0</td>\n",
       "      <td>0.0</td>\n",
       "      <td>229.0</td>\n",
       "      <td>6.0</td>\n",
       "      <td>2.0</td>\n",
       "      <td>0.0</td>\n",
       "      <td>0.0</td>\n",
       "      <td>0.0</td>\n",
       "      <td>0.0</td>\n",
       "      <td>1.0</td>\n",
       "    </tr>\n",
       "    <tr>\n",
       "      <th>29430</th>\n",
       "      <td>53.0</td>\n",
       "      <td>6112.0</td>\n",
       "      <td>211.0</td>\n",
       "      <td>1.0</td>\n",
       "      <td>2.0</td>\n",
       "      <td>0.0</td>\n",
       "      <td>0.0</td>\n",
       "      <td>0.0</td>\n",
       "      <td>1.0</td>\n",
       "      <td>1.0</td>\n",
       "    </tr>\n",
       "    <tr>\n",
       "      <th>37020</th>\n",
       "      <td>36.0</td>\n",
       "      <td>319.0</td>\n",
       "      <td>774.0</td>\n",
       "      <td>2.0</td>\n",
       "      <td>1.0</td>\n",
       "      <td>0.0</td>\n",
       "      <td>1.0</td>\n",
       "      <td>0.0</td>\n",
       "      <td>1.0</td>\n",
       "      <td>1.0</td>\n",
       "    </tr>\n",
       "    <tr>\n",
       "      <th>29293</th>\n",
       "      <td>26.0</td>\n",
       "      <td>15161.0</td>\n",
       "      <td>280.0</td>\n",
       "      <td>1.0</td>\n",
       "      <td>3.0</td>\n",
       "      <td>0.0</td>\n",
       "      <td>0.0</td>\n",
       "      <td>0.0</td>\n",
       "      <td>0.0</td>\n",
       "      <td>1.0</td>\n",
       "    </tr>\n",
       "    <tr>\n",
       "      <th>...</th>\n",
       "      <td>...</td>\n",
       "      <td>...</td>\n",
       "      <td>...</td>\n",
       "      <td>...</td>\n",
       "      <td>...</td>\n",
       "      <td>...</td>\n",
       "      <td>...</td>\n",
       "      <td>...</td>\n",
       "      <td>...</td>\n",
       "      <td>...</td>\n",
       "    </tr>\n",
       "    <tr>\n",
       "      <th>19249</th>\n",
       "      <td>35.0</td>\n",
       "      <td>146.0</td>\n",
       "      <td>720.0</td>\n",
       "      <td>2.0</td>\n",
       "      <td>3.0</td>\n",
       "      <td>0.0</td>\n",
       "      <td>0.0</td>\n",
       "      <td>0.0</td>\n",
       "      <td>0.0</td>\n",
       "      <td>1.0</td>\n",
       "    </tr>\n",
       "    <tr>\n",
       "      <th>26250</th>\n",
       "      <td>32.0</td>\n",
       "      <td>6402.0</td>\n",
       "      <td>628.0</td>\n",
       "      <td>1.0</td>\n",
       "      <td>2.0</td>\n",
       "      <td>0.0</td>\n",
       "      <td>1.0</td>\n",
       "      <td>0.0</td>\n",
       "      <td>0.0</td>\n",
       "      <td>1.0</td>\n",
       "    </tr>\n",
       "    <tr>\n",
       "      <th>34017</th>\n",
       "      <td>31.0</td>\n",
       "      <td>2016.0</td>\n",
       "      <td>209.0</td>\n",
       "      <td>1.0</td>\n",
       "      <td>3.0</td>\n",
       "      <td>0.0</td>\n",
       "      <td>0.0</td>\n",
       "      <td>0.0</td>\n",
       "      <td>0.0</td>\n",
       "      <td>1.0</td>\n",
       "    </tr>\n",
       "    <tr>\n",
       "      <th>27105</th>\n",
       "      <td>57.0</td>\n",
       "      <td>372.0</td>\n",
       "      <td>553.0</td>\n",
       "      <td>3.0</td>\n",
       "      <td>3.0</td>\n",
       "      <td>0.0</td>\n",
       "      <td>0.0</td>\n",
       "      <td>0.0</td>\n",
       "      <td>1.0</td>\n",
       "      <td>1.0</td>\n",
       "    </tr>\n",
       "    <tr>\n",
       "      <th>31135</th>\n",
       "      <td>39.0</td>\n",
       "      <td>2266.0</td>\n",
       "      <td>208.0</td>\n",
       "      <td>4.0</td>\n",
       "      <td>2.0</td>\n",
       "      <td>0.0</td>\n",
       "      <td>0.0</td>\n",
       "      <td>0.0</td>\n",
       "      <td>1.0</td>\n",
       "      <td>1.0</td>\n",
       "    </tr>\n",
       "  </tbody>\n",
       "</table>\n",
       "<p>27360 rows × 10 columns</p>\n",
       "</div>"
      ],
      "text/plain": [
       "        age  balance  duration  campaign  education  default  housing  loan  \\\n",
       "39881  50.0   3370.0     160.0       2.0        2.0      0.0      0.0   0.0   \n",
       "30803  22.0      0.0     229.0       6.0        2.0      0.0      0.0   0.0   \n",
       "29430  53.0   6112.0     211.0       1.0        2.0      0.0      0.0   0.0   \n",
       "37020  36.0    319.0     774.0       2.0        1.0      0.0      1.0   0.0   \n",
       "29293  26.0  15161.0     280.0       1.0        3.0      0.0      0.0   0.0   \n",
       "...     ...      ...       ...       ...        ...      ...      ...   ...   \n",
       "19249  35.0    146.0     720.0       2.0        3.0      0.0      0.0   0.0   \n",
       "26250  32.0   6402.0     628.0       1.0        2.0      0.0      1.0   0.0   \n",
       "34017  31.0   2016.0     209.0       1.0        3.0      0.0      0.0   0.0   \n",
       "27105  57.0    372.0     553.0       3.0        3.0      0.0      0.0   0.0   \n",
       "31135  39.0   2266.0     208.0       4.0        2.0      0.0      0.0   0.0   \n",
       "\n",
       "       married    y  \n",
       "39881      1.0  1.0  \n",
       "30803      0.0  1.0  \n",
       "29430      1.0  1.0  \n",
       "37020      1.0  1.0  \n",
       "29293      0.0  1.0  \n",
       "...        ...  ...  \n",
       "19249      0.0  1.0  \n",
       "26250      0.0  1.0  \n",
       "34017      0.0  1.0  \n",
       "27105      1.0  1.0  \n",
       "31135      1.0  1.0  \n",
       "\n",
       "[27360 rows x 10 columns]"
      ]
     },
     "execution_count": 38,
     "metadata": {},
     "output_type": "execute_result"
    }
   ],
   "source": [
    "new_positive_examples = positive_samples.sample(n=27360, replace=True, random_state=0)\n",
    "new_positive_examples # oversampling positive class scenarios to equalize negative case scenarios"
   ]
  },
  {
   "cell_type": "code",
   "execution_count": 39,
   "id": "4ffd67f0",
   "metadata": {},
   "outputs": [
    {
     "data": {
      "text/html": [
       "<div>\n",
       "<style scoped>\n",
       "    .dataframe tbody tr th:only-of-type {\n",
       "        vertical-align: middle;\n",
       "    }\n",
       "\n",
       "    .dataframe tbody tr th {\n",
       "        vertical-align: top;\n",
       "    }\n",
       "\n",
       "    .dataframe thead th {\n",
       "        text-align: right;\n",
       "    }\n",
       "</style>\n",
       "<table border=\"1\" class=\"dataframe\">\n",
       "  <thead>\n",
       "    <tr style=\"text-align: right;\">\n",
       "      <th></th>\n",
       "      <th>age</th>\n",
       "      <th>balance</th>\n",
       "      <th>duration</th>\n",
       "      <th>campaign</th>\n",
       "      <th>education</th>\n",
       "      <th>default</th>\n",
       "      <th>housing</th>\n",
       "      <th>loan</th>\n",
       "      <th>married</th>\n",
       "      <th>y</th>\n",
       "    </tr>\n",
       "  </thead>\n",
       "  <tbody>\n",
       "    <tr>\n",
       "      <th>39881</th>\n",
       "      <td>50.0</td>\n",
       "      <td>3370.0</td>\n",
       "      <td>160.0</td>\n",
       "      <td>2.0</td>\n",
       "      <td>2.0</td>\n",
       "      <td>0.0</td>\n",
       "      <td>0.0</td>\n",
       "      <td>0.0</td>\n",
       "      <td>1.0</td>\n",
       "      <td>1.0</td>\n",
       "    </tr>\n",
       "    <tr>\n",
       "      <th>30803</th>\n",
       "      <td>22.0</td>\n",
       "      <td>0.0</td>\n",
       "      <td>229.0</td>\n",
       "      <td>6.0</td>\n",
       "      <td>2.0</td>\n",
       "      <td>0.0</td>\n",
       "      <td>0.0</td>\n",
       "      <td>0.0</td>\n",
       "      <td>0.0</td>\n",
       "      <td>1.0</td>\n",
       "    </tr>\n",
       "    <tr>\n",
       "      <th>29430</th>\n",
       "      <td>53.0</td>\n",
       "      <td>6112.0</td>\n",
       "      <td>211.0</td>\n",
       "      <td>1.0</td>\n",
       "      <td>2.0</td>\n",
       "      <td>0.0</td>\n",
       "      <td>0.0</td>\n",
       "      <td>0.0</td>\n",
       "      <td>1.0</td>\n",
       "      <td>1.0</td>\n",
       "    </tr>\n",
       "    <tr>\n",
       "      <th>37020</th>\n",
       "      <td>36.0</td>\n",
       "      <td>319.0</td>\n",
       "      <td>774.0</td>\n",
       "      <td>2.0</td>\n",
       "      <td>1.0</td>\n",
       "      <td>0.0</td>\n",
       "      <td>1.0</td>\n",
       "      <td>0.0</td>\n",
       "      <td>1.0</td>\n",
       "      <td>1.0</td>\n",
       "    </tr>\n",
       "    <tr>\n",
       "      <th>29293</th>\n",
       "      <td>26.0</td>\n",
       "      <td>15161.0</td>\n",
       "      <td>280.0</td>\n",
       "      <td>1.0</td>\n",
       "      <td>3.0</td>\n",
       "      <td>0.0</td>\n",
       "      <td>0.0</td>\n",
       "      <td>0.0</td>\n",
       "      <td>0.0</td>\n",
       "      <td>1.0</td>\n",
       "    </tr>\n",
       "    <tr>\n",
       "      <th>...</th>\n",
       "      <td>...</td>\n",
       "      <td>...</td>\n",
       "      <td>...</td>\n",
       "      <td>...</td>\n",
       "      <td>...</td>\n",
       "      <td>...</td>\n",
       "      <td>...</td>\n",
       "      <td>...</td>\n",
       "      <td>...</td>\n",
       "      <td>...</td>\n",
       "    </tr>\n",
       "    <tr>\n",
       "      <th>6265</th>\n",
       "      <td>32.0</td>\n",
       "      <td>13.0</td>\n",
       "      <td>88.0</td>\n",
       "      <td>2.0</td>\n",
       "      <td>2.0</td>\n",
       "      <td>0.0</td>\n",
       "      <td>1.0</td>\n",
       "      <td>0.0</td>\n",
       "      <td>0.0</td>\n",
       "      <td>0.0</td>\n",
       "    </tr>\n",
       "    <tr>\n",
       "      <th>11284</th>\n",
       "      <td>44.0</td>\n",
       "      <td>1059.0</td>\n",
       "      <td>2093.0</td>\n",
       "      <td>1.0</td>\n",
       "      <td>1.0</td>\n",
       "      <td>0.0</td>\n",
       "      <td>0.0</td>\n",
       "      <td>0.0</td>\n",
       "      <td>0.0</td>\n",
       "      <td>1.0</td>\n",
       "    </tr>\n",
       "    <tr>\n",
       "      <th>38158</th>\n",
       "      <td>34.0</td>\n",
       "      <td>1317.0</td>\n",
       "      <td>239.0</td>\n",
       "      <td>1.0</td>\n",
       "      <td>3.0</td>\n",
       "      <td>0.0</td>\n",
       "      <td>1.0</td>\n",
       "      <td>0.0</td>\n",
       "      <td>0.0</td>\n",
       "      <td>0.0</td>\n",
       "    </tr>\n",
       "    <tr>\n",
       "      <th>860</th>\n",
       "      <td>33.0</td>\n",
       "      <td>165.0</td>\n",
       "      <td>111.0</td>\n",
       "      <td>1.0</td>\n",
       "      <td>2.0</td>\n",
       "      <td>0.0</td>\n",
       "      <td>0.0</td>\n",
       "      <td>0.0</td>\n",
       "      <td>1.0</td>\n",
       "      <td>0.0</td>\n",
       "    </tr>\n",
       "    <tr>\n",
       "      <th>15795</th>\n",
       "      <td>38.0</td>\n",
       "      <td>-41.0</td>\n",
       "      <td>68.0</td>\n",
       "      <td>10.0</td>\n",
       "      <td>1.0</td>\n",
       "      <td>0.0</td>\n",
       "      <td>1.0</td>\n",
       "      <td>0.0</td>\n",
       "      <td>1.0</td>\n",
       "      <td>0.0</td>\n",
       "    </tr>\n",
       "  </tbody>\n",
       "</table>\n",
       "<p>51360 rows × 10 columns</p>\n",
       "</div>"
      ],
      "text/plain": [
       "        age  balance  duration  campaign  education  default  housing  loan  \\\n",
       "39881  50.0   3370.0     160.0       2.0        2.0      0.0      0.0   0.0   \n",
       "30803  22.0      0.0     229.0       6.0        2.0      0.0      0.0   0.0   \n",
       "29430  53.0   6112.0     211.0       1.0        2.0      0.0      0.0   0.0   \n",
       "37020  36.0    319.0     774.0       2.0        1.0      0.0      1.0   0.0   \n",
       "29293  26.0  15161.0     280.0       1.0        3.0      0.0      0.0   0.0   \n",
       "...     ...      ...       ...       ...        ...      ...      ...   ...   \n",
       "6265   32.0     13.0      88.0       2.0        2.0      0.0      1.0   0.0   \n",
       "11284  44.0   1059.0    2093.0       1.0        1.0      0.0      0.0   0.0   \n",
       "38158  34.0   1317.0     239.0       1.0        3.0      0.0      1.0   0.0   \n",
       "860    33.0    165.0     111.0       1.0        2.0      0.0      0.0   0.0   \n",
       "15795  38.0    -41.0      68.0      10.0        1.0      0.0      1.0   0.0   \n",
       "\n",
       "       married    y  \n",
       "39881      1.0  1.0  \n",
       "30803      0.0  1.0  \n",
       "29430      1.0  1.0  \n",
       "37020      1.0  1.0  \n",
       "29293      0.0  1.0  \n",
       "...        ...  ...  \n",
       "6265       0.0  0.0  \n",
       "11284      0.0  1.0  \n",
       "38158      0.0  0.0  \n",
       "860        1.0  0.0  \n",
       "15795      1.0  0.0  \n",
       "\n",
       "[51360 rows x 10 columns]"
      ]
     },
     "execution_count": 39,
     "metadata": {},
     "output_type": "execute_result"
    }
   ],
   "source": [
    "combined_file = [new_positive_examples, file_zero]\n",
    "combined_file = pd.concat(combined_file)\n",
    "combined_file # new data where positive and negative cases are balanced"
   ]
  },
  {
   "cell_type": "code",
   "execution_count": 40,
   "id": "6b483a0e",
   "metadata": {},
   "outputs": [
    {
     "data": {
      "image/png": "[encoded data removed]",
      "text/plain": [
       "<Figure size 432x288 with 1 Axes>"
      ]
     },
     "metadata": {
      "needs_background": "light"
     },
     "output_type": "display_data"
    }
   ],
   "source": [
    "combined_file[\"y\"].value_counts(normalize=True).plot.bar(title='Target Attribute: Overall Satisfaction')\n",
    "plt.show() # Now the classes are even."
   ]
  },
  {
   "cell_type": "code",
   "execution_count": 41,
   "id": "07181858",
   "metadata": {},
   "outputs": [
    {
     "name": "stdout",
     "output_type": "stream",
     "text": [
      "<class 'pandas.core.frame.DataFrame'>\n",
      "Int64Index: 51360 entries, 39881 to 15795\n",
      "Data columns (total 10 columns):\n",
      " #   Column     Non-Null Count  Dtype  \n",
      "---  ------     --------------  -----  \n",
      " 0   age        51360 non-null  float64\n",
      " 1   balance    51360 non-null  float64\n",
      " 2   duration   51360 non-null  float64\n",
      " 3   campaign   51360 non-null  float64\n",
      " 4   education  51360 non-null  float64\n",
      " 5   default    51360 non-null  float64\n",
      " 6   housing    51360 non-null  float64\n",
      " 7   loan       51360 non-null  float64\n",
      " 8   married    51360 non-null  float64\n",
      " 9   y          51360 non-null  float64\n",
      "dtypes: float64(10)\n",
      "memory usage: 4.3 MB\n"
     ]
    }
   ],
   "source": [
    "combined_file.info() # The combined file will be the training data"
   ]
  },
  {
   "cell_type": "markdown",
   "id": "1c27aaac",
   "metadata": {},
   "source": [
    "All variables now look independent.  Notable, duration has the highest correlation and might be indicative of it's importance."
   ]
  },
  {
   "cell_type": "markdown",
   "id": "3e508771",
   "metadata": {},
   "source": [
    "## Splitting up the data into a training set and a test set reserved for testing"
   ]
  },
  {
   "cell_type": "code",
   "execution_count": 42,
   "id": "0f146a1c",
   "metadata": {},
   "outputs": [],
   "source": [
    "X_one = combined_file.drop(['y'], axis=1)\n",
    "y_one = combined_file['y']"
   ]
  },
  {
   "cell_type": "code",
   "execution_count": 43,
   "id": "8f7b1c76",
   "metadata": {},
   "outputs": [],
   "source": [
    "X_train_one, X_test_one, y_train_one, y_test_one = train_test_split(X_one, y_one, test_size=0.4, random_state=42)"
   ]
  },
  {
   "cell_type": "markdown",
   "id": "b0a14431",
   "metadata": {},
   "source": [
    "#### Logistic Regression"
   ]
  },
  {
   "cell_type": "code",
   "execution_count": 44,
   "id": "3ae7b8a5",
   "metadata": {},
   "outputs": [
    {
     "name": "stdout",
     "output_type": "stream",
     "text": [
      "Accuracy of logistic regression classifier on test set: 0.81\n",
      "\n",
      "Confusion matrix: \n",
      " [[7118 1823]\n",
      " [2036 9567]]\n",
      "\n",
      "Classification report: \n",
      "               precision    recall  f1-score   support\n",
      "\n",
      "         0.0       0.78      0.80      0.79      8941\n",
      "         1.0       0.84      0.82      0.83     11603\n",
      "\n",
      "    accuracy                           0.81     20544\n",
      "   macro avg       0.81      0.81      0.81     20544\n",
      "weighted avg       0.81      0.81      0.81     20544\n",
      "\n"
     ]
    },
    {
     "data": {
      "image/png": "[encoded data removed]",
      "text/plain": [
       "<Figure size 432x288 with 1 Axes>"
      ]
     },
     "metadata": {
      "needs_background": "light"
     },
     "output_type": "display_data"
    },
    {
     "data": {
      "text/plain": [
       "LogisticRegression(C=2.275845926074791)"
      ]
     },
     "execution_count": 44,
     "metadata": {},
     "output_type": "execute_result"
    }
   ],
   "source": [
    "run_regression_accuracy(X_train_one, y_train_one, X_test_one, y_test_one)"
   ]
  },
  {
   "cell_type": "markdown",
   "id": "8c999138",
   "metadata": {},
   "source": [
    "#### Random Forest"
   ]
  },
  {
   "cell_type": "code",
   "execution_count": 45,
   "id": "28683923",
   "metadata": {},
   "outputs": [
    {
     "name": "stdout",
     "output_type": "stream",
     "text": [
      "Accuracy of random forest classifier on test set: 0.94\n",
      "\n",
      "Confusion matrix: \n",
      " [[ 7837  1104]\n",
      " [  118 11485]]\n",
      "\n",
      "Classification report: \n",
      "               precision    recall  f1-score   support\n",
      "\n",
      "         0.0       0.99      0.88      0.93      8941\n",
      "         1.0       0.91      0.99      0.95     11603\n",
      "\n",
      "    accuracy                           0.94     20544\n",
      "   macro avg       0.95      0.93      0.94     20544\n",
      "weighted avg       0.94      0.94      0.94     20544\n",
      "\n"
     ]
    },
    {
     "data": {
      "image/png": "[encoded data removed]",
      "text/plain": [
       "<Figure size 432x288 with 1 Axes>"
      ]
     },
     "metadata": {
      "needs_background": "light"
     },
     "output_type": "display_data"
    },
    {
     "data": {
      "text/plain": [
       "RandomForestClassifier(max_depth=13, n_estimators=61, random_state=1)"
      ]
     },
     "execution_count": 45,
     "metadata": {},
     "output_type": "execute_result"
    }
   ],
   "source": [
    "run_random_forest_accuracy(X_train_one, y_train_one, X_test_one, y_test_one)"
   ]
  },
  {
   "cell_type": "markdown",
   "id": "b593e377",
   "metadata": {},
   "source": [
    "#### Decision Tree"
   ]
  },
  {
   "cell_type": "code",
   "execution_count": 46,
   "id": "ecf76c63",
   "metadata": {},
   "outputs": [
    {
     "name": "stdout",
     "output_type": "stream",
     "text": [
      "Accuracy of decision tree on test set: 0.96\n",
      "\n",
      "Confusion matrix: \n",
      " [[ 8126   815]\n",
      " [    9 11594]]\n",
      "\n",
      "Classification report: \n",
      "               precision    recall  f1-score   support\n",
      "\n",
      "         0.0       1.00      0.91      0.95      8941\n",
      "         1.0       0.93      1.00      0.97     11603\n",
      "\n",
      "    accuracy                           0.96     20544\n",
      "   macro avg       0.97      0.95      0.96     20544\n",
      "weighted avg       0.96      0.96      0.96     20544\n",
      "\n"
     ]
    },
    {
     "data": {
      "image/png": "[encoded data removed]",
      "text/plain": [
       "<Figure size 432x288 with 1 Axes>"
      ]
     },
     "metadata": {
      "needs_background": "light"
     },
     "output_type": "display_data"
    },
    {
     "data": {
      "text/plain": [
       "DecisionTreeClassifier(max_depth=19)"
      ]
     },
     "execution_count": 46,
     "metadata": {},
     "output_type": "execute_result"
    }
   ],
   "source": [
    "run_decision_tree_accuracy(X_train_one, y_train_one, X_test_one, y_test_one)"
   ]
  },
  {
   "cell_type": "markdown",
   "id": "dd91c37b",
   "metadata": {},
   "source": [
    "Balancing the classes did work with the dataset.  The best machine learning algorithm is a decision tree with a max_depth of 19."
   ]
  },
  {
   "cell_type": "code",
   "execution_count": 47,
   "id": "c12ae4f0",
   "metadata": {},
   "outputs": [],
   "source": [
    "X_zero_Test = file_zero_Test.drop(['y'], axis=1)\n",
    "y_zero_Test = file_zero_Test['y']"
   ]
  },
  {
   "cell_type": "markdown",
   "id": "4656c41f",
   "metadata": {},
   "source": [
    "### Running algorithms through the test data set"
   ]
  },
  {
   "cell_type": "code",
   "execution_count": 48,
   "id": "47484b31",
   "metadata": {},
   "outputs": [
    {
     "name": "stdout",
     "output_type": "stream",
     "text": [
      "Accuracy of decision tree on test set: 0.88\n",
      "\n",
      "Confusion matrix: \n",
      " [[13506  1335]\n",
      " [  567   592]]\n",
      "\n",
      "Classification report: \n",
      "               precision    recall  f1-score   support\n",
      "\n",
      "         0.0       0.96      0.91      0.93     14841\n",
      "         1.0       0.31      0.51      0.38      1159\n",
      "\n",
      "    accuracy                           0.88     16000\n",
      "   macro avg       0.63      0.71      0.66     16000\n",
      "weighted avg       0.91      0.88      0.89     16000\n",
      "\n"
     ]
    },
    {
     "data": {
      "image/png": "[encoded data removed]",
      "text/plain": [
       "<Figure size 432x288 with 1 Axes>"
      ]
     },
     "metadata": {
      "needs_background": "light"
     },
     "output_type": "display_data"
    }
   ],
   "source": [
    "paramgrid = {'max_depth': list(range(1, 20, 2))\n",
    "                }\n",
    "grid_search = RandomizedSearchCV(DecisionTreeClassifier(), paramgrid, cv=5) # Could do a RandomizedSearchCV to save computing.\n",
    "    \n",
    "grid_search.fit(X_train_one, y_train_one)\n",
    "logreg = grid_search.best_estimator_\n",
    "y_pred = logreg.predict(X_zero_Test)\n",
    "print('Accuracy of decision tree on test set: {:.2f}'.format(logreg.score(X_zero_Test, y_zero_Test)))\n",
    "cm = confusion_matrix(y_zero_Test, y_pred)\n",
    "print('\\nConfusion matrix: \\n',cm)\n",
    "\n",
    "print('\\nClassification report: \\n',classification_report(y_zero_Test, y_pred))\n",
    "\n",
    "logit_roc_auc = roc_auc_score(y_zero_Test, logreg.predict(X_zero_Test))\n",
    "fpr, tpr, thresholds = roc_curve(y_zero_Test, logreg.predict_proba(X_zero_Test)[:,1])\n",
    "\n",
    "plt.figure()\n",
    "plt.plot(fpr, tpr, label='Decision Tree (area = %0.2f)' % logit_roc_auc)\n",
    "plt.plot([0, 1], [0, 1],'r--')\n",
    "plt.xlim([0.0, 1.0])\n",
    "plt.ylim([0.0, 1.05])\n",
    "plt.xlabel('False Positive Rate')\n",
    "plt.ylabel('True Positive Rate')\n",
    "plt.title('Receiver operating characteristic')\n",
    "plt.legend(loc=\"lower right\")\n",
    "plt.savefig('DECISION TREE RESULTS.png')\n",
    "plt.show()"
   ]
  },
  {
   "cell_type": "code",
   "execution_count": 49,
   "id": "a8a68639",
   "metadata": {},
   "outputs": [
    {
     "data": {
      "text/plain": [
       "DecisionTreeClassifier(max_depth=19)"
      ]
     },
     "execution_count": 49,
     "metadata": {},
     "output_type": "execute_result"
    }
   ],
   "source": [
    "logreg"
   ]
  },
  {
   "cell_type": "code",
   "execution_count": 50,
   "id": "367f1975",
   "metadata": {},
   "outputs": [],
   "source": [
    "import imblearn\n",
    "from imblearn.over_sampling import SMOTE"
   ]
  },
  {
   "cell_type": "code",
   "execution_count": 51,
   "id": "2fc01da9",
   "metadata": {},
   "outputs": [
    {
     "data": {
      "image/png": "[encoded data removed]",
      "text/plain": [
       "<Figure size 432x288 with 1 Axes>"
      ]
     },
     "metadata": {
      "needs_background": "light"
     },
     "output_type": "display_data"
    }
   ],
   "source": [
    "Training_file[\"y\"].value_counts(normalize=True).plot.bar(title='Target Attribute: Overall Satisfaction')\n",
    "plt.show()"
   ]
  },
  {
   "cell_type": "code",
   "execution_count": 52,
   "id": "6e23349a",
   "metadata": {},
   "outputs": [],
   "source": [
    "X_zero = file_zero.drop(['y'], axis=1)\n",
    "y_zero = file_zero['y']"
   ]
  },
  {
   "cell_type": "code",
   "execution_count": 53,
   "id": "dcdf5968",
   "metadata": {},
   "outputs": [],
   "source": [
    "oversample = SMOTE()\n",
    "X_two, y_two = oversample.fit_resample(X_zero, y_zero)"
   ]
  },
  {
   "cell_type": "code",
   "execution_count": 54,
   "id": "a68df1d7",
   "metadata": {},
   "outputs": [
    {
     "data": {
      "image/png": "[encoded data removed]",
      "text/plain": [
       "<Figure size 432x288 with 1 Axes>"
      ]
     },
     "metadata": {
      "needs_background": "light"
     },
     "output_type": "display_data"
    }
   ],
   "source": [
    "y_two.value_counts(normalize=True).plot.bar(title='Target Attribute: Overall Satisfaction')\n",
    "plt.show()"
   ]
  },
  {
   "cell_type": "code",
   "execution_count": 55,
   "id": "285d53bc",
   "metadata": {},
   "outputs": [],
   "source": [
    "X_train_two, X_test_two, y_train_two, y_test_two = train_test_split(X_two, y_two, test_size=0.4, random_state=42)"
   ]
  },
  {
   "cell_type": "code",
   "execution_count": 56,
   "id": "7a267cc5",
   "metadata": {},
   "outputs": [
    {
     "name": "stdout",
     "output_type": "stream",
     "text": [
      "Accuracy of logistic regression classifier on test set: 0.81\n",
      "\n",
      "Confusion matrix: \n",
      " [[7462 1451]\n",
      " [2010 6888]]\n",
      "\n",
      "Classification report: \n",
      "               precision    recall  f1-score   support\n",
      "\n",
      "         0.0       0.79      0.84      0.81      8913\n",
      "         1.0       0.83      0.77      0.80      8898\n",
      "\n",
      "    accuracy                           0.81     17811\n",
      "   macro avg       0.81      0.81      0.81     17811\n",
      "weighted avg       0.81      0.81      0.81     17811\n",
      "\n"
     ]
    },
    {
     "data": {
      "image/png": "[encoded data removed]",
      "text/plain": [
       "<Figure size 432x288 with 1 Axes>"
      ]
     },
     "metadata": {
      "needs_background": "light"
     },
     "output_type": "display_data"
    },
    {
     "data": {
      "text/plain": [
       "LogisticRegression(C=19.306977288832535)"
      ]
     },
     "execution_count": 56,
     "metadata": {},
     "output_type": "execute_result"
    }
   ],
   "source": [
    "run_regression_accuracy(X_train_two, y_train_two, X_test_two, y_test_two)"
   ]
  },
  {
   "cell_type": "code",
   "execution_count": 57,
   "id": "2e1086f4",
   "metadata": {},
   "outputs": [
    {
     "name": "stdout",
     "output_type": "stream",
     "text": [
      "Accuracy of random forest classifier on test set: 0.94\n",
      "\n",
      "Confusion matrix: \n",
      " [[8414  499]\n",
      " [ 560 8338]]\n",
      "\n",
      "Classification report: \n",
      "               precision    recall  f1-score   support\n",
      "\n",
      "         0.0       0.94      0.94      0.94      8913\n",
      "         1.0       0.94      0.94      0.94      8898\n",
      "\n",
      "    accuracy                           0.94     17811\n",
      "   macro avg       0.94      0.94      0.94     17811\n",
      "weighted avg       0.94      0.94      0.94     17811\n",
      "\n"
     ]
    },
    {
     "data": {
      "image/png": "[encoded data removed]",
      "text/plain": [
       "<Figure size 432x288 with 1 Axes>"
      ]
     },
     "metadata": {
      "needs_background": "light"
     },
     "output_type": "display_data"
    },
    {
     "data": {
      "text/plain": [
       "RandomForestClassifier(max_depth=11, n_estimators=21, random_state=1)"
      ]
     },
     "execution_count": 57,
     "metadata": {},
     "output_type": "execute_result"
    }
   ],
   "source": [
    "run_random_forest_accuracy(X_train_two, y_train_two, X_test_two, y_test_two)"
   ]
  },
  {
   "cell_type": "code",
   "execution_count": 58,
   "id": "90cad505",
   "metadata": {},
   "outputs": [
    {
     "name": "stdout",
     "output_type": "stream",
     "text": [
      "Accuracy of decision tree on test set: 0.93\n",
      "\n",
      "Confusion matrix: \n",
      " [[8332  581]\n",
      " [ 621 8277]]\n",
      "\n",
      "Classification report: \n",
      "               precision    recall  f1-score   support\n",
      "\n",
      "         0.0       0.93      0.93      0.93      8913\n",
      "         1.0       0.93      0.93      0.93      8898\n",
      "\n",
      "    accuracy                           0.93     17811\n",
      "   macro avg       0.93      0.93      0.93     17811\n",
      "weighted avg       0.93      0.93      0.93     17811\n",
      "\n"
     ]
    },
    {
     "data": {
      "image/png": "[encoded data removed]",
      "text/plain": [
       "<Figure size 432x288 with 1 Axes>"
      ]
     },
     "metadata": {
      "needs_background": "light"
     },
     "output_type": "display_data"
    },
    {
     "data": {
      "text/plain": [
       "DecisionTreeClassifier(max_depth=15)"
      ]
     },
     "execution_count": 58,
     "metadata": {},
     "output_type": "execute_result"
    }
   ],
   "source": [
    "run_decision_tree_accuracy(X_train_two, y_train_two, X_test_two, y_test_two)"
   ]
  },
  {
   "cell_type": "code",
   "execution_count": 59,
   "id": "3763f417",
   "metadata": {},
   "outputs": [
    {
     "name": "stdout",
     "output_type": "stream",
     "text": [
      "Accuracy of decision tree on test set: 0.90\n",
      "\n",
      "Confusion matrix: \n",
      " [[13886   955]\n",
      " [  713   446]]\n",
      "\n",
      "Classification report: \n",
      "               precision    recall  f1-score   support\n",
      "\n",
      "         0.0       0.95      0.94      0.94     14841\n",
      "         1.0       0.32      0.38      0.35      1159\n",
      "\n",
      "    accuracy                           0.90     16000\n",
      "   macro avg       0.63      0.66      0.65     16000\n",
      "weighted avg       0.91      0.90      0.90     16000\n",
      "\n"
     ]
    },
    {
     "data": {
      "image/png": "[encoded data removed]",
      "text/plain": [
       "<Figure size 432x288 with 1 Axes>"
      ]
     },
     "metadata": {
      "needs_background": "light"
     },
     "output_type": "display_data"
    }
   ],
   "source": [
    "paramgrid = {'max_depth': list(range(1, 20, 2))\n",
    "                }\n",
    "grid_search = RandomizedSearchCV(DecisionTreeClassifier(), paramgrid, cv=5) # Could do a RandomizedSearchCV to save computing.\n",
    "    \n",
    "grid_search.fit(X_train_two, y_train_two)\n",
    "logreg = grid_search.best_estimator_\n",
    "y_pred = logreg.predict(X_zero_Test)\n",
    "print('Accuracy of decision tree on test set: {:.2f}'.format(logreg.score(X_zero_Test, y_zero_Test)))\n",
    "cm = confusion_matrix(y_zero_Test, y_pred)\n",
    "print('\\nConfusion matrix: \\n',cm)\n",
    "\n",
    "print('\\nClassification report: \\n',classification_report(y_zero_Test, y_pred))\n",
    "\n",
    "logit_roc_auc = roc_auc_score(y_zero_Test, logreg.predict(X_zero_Test))\n",
    "fpr, tpr, thresholds = roc_curve(y_zero_Test, logreg.predict_proba(X_zero_Test)[:,1])\n",
    "\n",
    "plt.figure()\n",
    "plt.plot(fpr, tpr, label='Decision Tree (area = %0.2f)' % logit_roc_auc)\n",
    "plt.plot([0, 1], [0, 1],'r--')\n",
    "plt.xlim([0.0, 1.0])\n",
    "plt.ylim([0.0, 1.05])\n",
    "plt.xlabel('False Positive Rate')\n",
    "plt.ylabel('True Positive Rate')\n",
    "plt.title('Receiver operating characteristic')\n",
    "plt.legend(loc=\"lower right\")\n",
    "plt.savefig('DECISION TREE RESULTS.png')\n",
    "plt.show()"
   ]
  },
  {
   "cell_type": "code",
   "execution_count": 60,
   "id": "1b9b7566",
   "metadata": {},
   "outputs": [
    {
     "name": "stdout",
     "output_type": "stream",
     "text": [
      "Accuracy of decision tree on test set: 0.91\n",
      "\n",
      "Confusion matrix: \n",
      " [[13934   907]\n",
      " [  511   648]]\n",
      "\n",
      "Classification report: \n",
      "               precision    recall  f1-score   support\n",
      "\n",
      "         0.0       0.96      0.94      0.95     14841\n",
      "         1.0       0.42      0.56      0.48      1159\n",
      "\n",
      "    accuracy                           0.91     16000\n",
      "   macro avg       0.69      0.75      0.71     16000\n",
      "weighted avg       0.92      0.91      0.92     16000\n",
      "\n"
     ]
    },
    {
     "data": {
      "image/png": "[encoded data removed]",
      "text/plain": [
       "<Figure size 432x288 with 1 Axes>"
      ]
     },
     "metadata": {
      "needs_background": "light"
     },
     "output_type": "display_data"
    }
   ],
   "source": [
    "paramgrid = {'max_depth': list(range(1, 15, 2)), 'n_estimators': list(range(1, 200, 20))}\n",
    "grid_search = RandomizedSearchCV(RandomForestClassifier(random_state=1), paramgrid) # Could do a RandomizedSearchCV to save computing.\n",
    "    \n",
    "grid_search.fit(X_train_two, y_train_two)\n",
    "logreg = grid_search.best_estimator_\n",
    "y_pred = logreg.predict(X_zero_Test)\n",
    "print('Accuracy of decision tree on test set: {:.2f}'.format(logreg.score(X_zero_Test, y_zero_Test)))\n",
    "cm = confusion_matrix(y_zero_Test, y_pred)\n",
    "print('\\nConfusion matrix: \\n',cm)\n",
    "\n",
    "print('\\nClassification report: \\n',classification_report(y_zero_Test, y_pred))\n",
    "\n",
    "logit_roc_auc = roc_auc_score(y_zero_Test, logreg.predict(X_zero_Test))\n",
    "fpr, tpr, thresholds = roc_curve(y_zero_Test, logreg.predict_proba(X_zero_Test)[:,1])\n",
    "\n",
    "plt.figure()\n",
    "plt.plot(fpr, tpr, label='Decision Tree (area = %0.2f)' % logit_roc_auc)\n",
    "plt.plot([0, 1], [0, 1],'r--')\n",
    "plt.xlim([0.0, 1.0])\n",
    "plt.ylim([0.0, 1.05])\n",
    "plt.xlabel('False Positive Rate')\n",
    "plt.ylabel('True Positive Rate')\n",
    "plt.title('Receiver operating characteristic')\n",
    "plt.legend(loc=\"lower right\")\n",
    "plt.savefig('DECISION TREE RESULTS.png')\n",
    "plt.show()"
   ]
  },
  {
   "cell_type": "markdown",
   "id": "662d83f3",
   "metadata": {},
   "source": [
    "### Trying out ADASYN to see if test accuracy and ROC scores improve"
   ]
  },
  {
   "cell_type": "code",
   "execution_count": 61,
   "id": "d1741bb1",
   "metadata": {},
   "outputs": [],
   "source": [
    "from imblearn.over_sampling import ADASYN"
   ]
  },
  {
   "cell_type": "code",
   "execution_count": 62,
   "id": "2ea46a86",
   "metadata": {},
   "outputs": [],
   "source": [
    "oversample_two = ADASYN()"
   ]
  },
  {
   "cell_type": "code",
   "execution_count": 63,
   "id": "e7da19ce",
   "metadata": {},
   "outputs": [],
   "source": [
    "X_three, y_three = oversample_two.fit_resample(X_zero, y_zero)"
   ]
  },
  {
   "cell_type": "code",
   "execution_count": 64,
   "id": "a1b099b4",
   "metadata": {},
   "outputs": [],
   "source": [
    "X_train_three, X_test_three, y_train_three, y_test_three = train_test_split(X_three, y_three, test_size=0.4, random_state=42)"
   ]
  },
  {
   "cell_type": "markdown",
   "id": "e0c29ee7",
   "metadata": {},
   "source": [
    "### Observing the test scores on the training data"
   ]
  },
  {
   "cell_type": "code",
   "execution_count": 65,
   "id": "01065e95",
   "metadata": {},
   "outputs": [
    {
     "name": "stdout",
     "output_type": "stream",
     "text": [
      "Accuracy of logistic regression classifier on test set: 0.78\n",
      "\n",
      "Confusion matrix: \n",
      " [[7176 1740]\n",
      " [2163 6790]]\n",
      "\n",
      "Classification report: \n",
      "               precision    recall  f1-score   support\n",
      "\n",
      "         0.0       0.77      0.80      0.79      8916\n",
      "         1.0       0.80      0.76      0.78      8953\n",
      "\n",
      "    accuracy                           0.78     17869\n",
      "   macro avg       0.78      0.78      0.78     17869\n",
      "weighted avg       0.78      0.78      0.78     17869\n",
      "\n"
     ]
    },
    {
     "data": {
      "image/png": "[encoded data removed]",
      "text/plain": [
       "<Figure size 432x288 with 1 Axes>"
      ]
     },
     "metadata": {
      "needs_background": "light"
     },
     "output_type": "display_data"
    },
    {
     "data": {
      "text/plain": [
       "LogisticRegression(C=163.7893706954068)"
      ]
     },
     "execution_count": 65,
     "metadata": {},
     "output_type": "execute_result"
    }
   ],
   "source": [
    "run_regression_accuracy(X_train_three, y_train_three, X_test_three, y_test_three)"
   ]
  },
  {
   "cell_type": "code",
   "execution_count": 66,
   "id": "b810e6f4",
   "metadata": {},
   "outputs": [
    {
     "name": "stdout",
     "output_type": "stream",
     "text": [
      "Accuracy of decision tree on test set: 0.93\n",
      "\n",
      "Confusion matrix: \n",
      " [[8275  641]\n",
      " [ 546 8407]]\n",
      "\n",
      "Classification report: \n",
      "               precision    recall  f1-score   support\n",
      "\n",
      "         0.0       0.94      0.93      0.93      8916\n",
      "         1.0       0.93      0.94      0.93      8953\n",
      "\n",
      "    accuracy                           0.93     17869\n",
      "   macro avg       0.93      0.93      0.93     17869\n",
      "weighted avg       0.93      0.93      0.93     17869\n",
      "\n"
     ]
    },
    {
     "data": {
      "image/png": "[encoded data removed]",
      "text/plain": [
       "<Figure size 432x288 with 1 Axes>"
      ]
     },
     "metadata": {
      "needs_background": "light"
     },
     "output_type": "display_data"
    },
    {
     "data": {
      "text/plain": [
       "DecisionTreeClassifier(max_depth=19)"
      ]
     },
     "execution_count": 66,
     "metadata": {},
     "output_type": "execute_result"
    }
   ],
   "source": [
    "run_decision_tree_accuracy(X_train_three, y_train_three, X_test_three, y_test_three)"
   ]
  },
  {
   "cell_type": "code",
   "execution_count": 67,
   "id": "1527070c",
   "metadata": {},
   "outputs": [
    {
     "name": "stdout",
     "output_type": "stream",
     "text": [
      "Accuracy of random forest classifier on test set: 0.95\n",
      "\n",
      "Confusion matrix: \n",
      " [[8497  419]\n",
      " [ 502 8451]]\n",
      "\n",
      "Classification report: \n",
      "               precision    recall  f1-score   support\n",
      "\n",
      "         0.0       0.94      0.95      0.95      8916\n",
      "         1.0       0.95      0.94      0.95      8953\n",
      "\n",
      "    accuracy                           0.95     17869\n",
      "   macro avg       0.95      0.95      0.95     17869\n",
      "weighted avg       0.95      0.95      0.95     17869\n",
      "\n"
     ]
    },
    {
     "data": {
      "image/png": "[encoded data removed]",
      "text/plain": [
       "<Figure size 432x288 with 1 Axes>"
      ]
     },
     "metadata": {
      "needs_background": "light"
     },
     "output_type": "display_data"
    },
    {
     "data": {
      "text/plain": [
       "RandomForestClassifier(max_depth=13, n_estimators=141, random_state=1)"
      ]
     },
     "execution_count": 67,
     "metadata": {},
     "output_type": "execute_result"
    }
   ],
   "source": [
    "run_random_forest_accuracy(X_train_three, y_train_three, X_test_three, y_test_three)"
   ]
  },
  {
   "cell_type": "markdown",
   "id": "4e3a10d8",
   "metadata": {},
   "source": [
    "### Observing the accuracy/ROC scores on testing data using ADASYN"
   ]
  },
  {
   "cell_type": "code",
   "execution_count": 68,
   "id": "9d9730f9",
   "metadata": {},
   "outputs": [
    {
     "name": "stdout",
     "output_type": "stream",
     "text": [
      "Accuracy of random forest on test set: 0.92\n",
      "\n",
      "Confusion matrix: \n",
      " [[14186   655]\n",
      " [  645   514]]\n",
      "\n",
      "Classification report: \n",
      "               precision    recall  f1-score   support\n",
      "\n",
      "         0.0       0.96      0.96      0.96     14841\n",
      "         1.0       0.44      0.44      0.44      1159\n",
      "\n",
      "    accuracy                           0.92     16000\n",
      "   macro avg       0.70      0.70      0.70     16000\n",
      "weighted avg       0.92      0.92      0.92     16000\n",
      "\n"
     ]
    },
    {
     "data": {
      "image/png": "[encoded data removed]",
      "text/plain": [
       "<Figure size 432x288 with 1 Axes>"
      ]
     },
     "metadata": {
      "needs_background": "light"
     },
     "output_type": "display_data"
    }
   ],
   "source": [
    "paramgrid = {'max_depth': list(range(1, 15, 2)), 'n_estimators': list(range(1, 200, 20))}\n",
    "grid_search = RandomizedSearchCV(RandomForestClassifier(random_state=1), paramgrid) # Could do a RandomizedSearchCV to save computing.\n",
    "    \n",
    "grid_search.fit(X_train_three, y_train_three)\n",
    "logreg = grid_search.best_estimator_\n",
    "y_pred = logreg.predict(X_zero_Test)\n",
    "print('Accuracy of random forest on test set: {:.2f}'.format(logreg.score(X_zero_Test, y_zero_Test)))\n",
    "cm = confusion_matrix(y_zero_Test, y_pred)\n",
    "print('\\nConfusion matrix: \\n',cm)\n",
    "\n",
    "print('\\nClassification report: \\n',classification_report(y_zero_Test, y_pred))\n",
    "\n",
    "logit_roc_auc = roc_auc_score(y_zero_Test, logreg.predict(X_zero_Test))\n",
    "fpr, tpr, thresholds = roc_curve(y_zero_Test, logreg.predict_proba(X_zero_Test)[:,1])\n",
    "\n",
    "plt.figure()\n",
    "plt.plot(fpr, tpr, label='Decision Tree (area = %0.2f)' % logit_roc_auc)\n",
    "plt.plot([0, 1], [0, 1],'r--')\n",
    "plt.xlim([0.0, 1.0])\n",
    "plt.ylim([0.0, 1.05])\n",
    "plt.xlabel('False Positive Rate')\n",
    "plt.ylabel('True Positive Rate')\n",
    "plt.title('Receiver operating characteristic')\n",
    "plt.legend(loc=\"lower right\")\n",
    "plt.savefig('RANDOM FOREST RESULTS.png')\n",
    "plt.show()"
   ]
  },
  {
   "cell_type": "code",
   "execution_count": 69,
   "id": "e11b818f",
   "metadata": {},
   "outputs": [
    {
     "name": "stdout",
     "output_type": "stream",
     "text": [
      "Accuracy of decision tree on test set: 0.89\n",
      "\n",
      "Confusion matrix: \n",
      " [[13839  1002]\n",
      " [  710   449]]\n",
      "\n",
      "Classification report: \n",
      "               precision    recall  f1-score   support\n",
      "\n",
      "         0.0       0.95      0.93      0.94     14841\n",
      "         1.0       0.31      0.39      0.34      1159\n",
      "\n",
      "    accuracy                           0.89     16000\n",
      "   macro avg       0.63      0.66      0.64     16000\n",
      "weighted avg       0.90      0.89      0.90     16000\n",
      "\n"
     ]
    },
    {
     "data": {
      "image/png": "[encoded data removed]",
      "text/plain": [
       "<Figure size 432x288 with 1 Axes>"
      ]
     },
     "metadata": {
      "needs_background": "light"
     },
     "output_type": "display_data"
    }
   ],
   "source": [
    "paramgrid = {'max_depth': list(range(1, 20, 2))\n",
    "                }\n",
    "grid_search = RandomizedSearchCV(DecisionTreeClassifier(), paramgrid, cv=5) # Could do a RandomizedSearchCV to save computing.\n",
    "    \n",
    "grid_search.fit(X_train_three, y_train_three)\n",
    "logreg = grid_search.best_estimator_\n",
    "y_pred = logreg.predict(X_zero_Test)\n",
    "print('Accuracy of decision tree on test set: {:.2f}'.format(logreg.score(X_zero_Test, y_zero_Test)))\n",
    "cm = confusion_matrix(y_zero_Test, y_pred)\n",
    "print('\\nConfusion matrix: \\n',cm)\n",
    "\n",
    "print('\\nClassification report: \\n',classification_report(y_zero_Test, y_pred))\n",
    "\n",
    "logit_roc_auc = roc_auc_score(y_zero_Test, logreg.predict(X_zero_Test))\n",
    "fpr, tpr, thresholds = roc_curve(y_zero_Test, logreg.predict_proba(X_zero_Test)[:,1])\n",
    "\n",
    "plt.figure()\n",
    "plt.plot(fpr, tpr, label='Decision Tree (area = %0.2f)' % logit_roc_auc)\n",
    "plt.plot([0, 1], [0, 1],'r--')\n",
    "plt.xlim([0.0, 1.0])\n",
    "plt.ylim([0.0, 1.05])\n",
    "plt.xlabel('False Positive Rate')\n",
    "plt.ylabel('True Positive Rate')\n",
    "plt.title('Receiver operating characteristic')\n",
    "plt.legend(loc=\"lower right\")\n",
    "plt.savefig('DECISION TREE RESULTS.png')\n",
    "plt.show()"
   ]
  },
  {
   "cell_type": "markdown",
   "id": "74bf8ede",
   "metadata": {},
   "source": [
    "### Duration is the strongest determinant for the target variable and can be used with reasonable accuracy to determine target variable"
   ]
  },
  {
   "cell_type": "code",
   "execution_count": 74,
   "id": "459a77f2",
   "metadata": {},
   "outputs": [
    {
     "data": {
      "text/plain": [
       "18729    0.0\n",
       "40744    1.0\n",
       "2468     0.0\n",
       "44079    1.0\n",
       "33984    1.0\n",
       "Name: y, dtype: float64"
      ]
     },
     "execution_count": 74,
     "metadata": {},
     "output_type": "execute_result"
    }
   ],
   "source": [
    "X_duration = X_train_three[['duration']]\n",
    "y_train_three.head()"
   ]
  },
  {
   "cell_type": "code",
   "execution_count": 76,
   "id": "55cd89ea",
   "metadata": {},
   "outputs": [
    {
     "data": {
      "text/html": [
       "<div>\n",
       "<style scoped>\n",
       "    .dataframe tbody tr th:only-of-type {\n",
       "        vertical-align: middle;\n",
       "    }\n",
       "\n",
       "    .dataframe tbody tr th {\n",
       "        vertical-align: top;\n",
       "    }\n",
       "\n",
       "    .dataframe thead th {\n",
       "        text-align: right;\n",
       "    }\n",
       "</style>\n",
       "<table border=\"1\" class=\"dataframe\">\n",
       "  <thead>\n",
       "    <tr style=\"text-align: right;\">\n",
       "      <th></th>\n",
       "      <th>duration</th>\n",
       "    </tr>\n",
       "  </thead>\n",
       "  <tbody>\n",
       "    <tr>\n",
       "      <th>32823</th>\n",
       "      <td>198.0</td>\n",
       "    </tr>\n",
       "    <tr>\n",
       "      <th>16298</th>\n",
       "      <td>336.0</td>\n",
       "    </tr>\n",
       "    <tr>\n",
       "      <th>28505</th>\n",
       "      <td>376.0</td>\n",
       "    </tr>\n",
       "    <tr>\n",
       "      <th>6689</th>\n",
       "      <td>156.0</td>\n",
       "    </tr>\n",
       "    <tr>\n",
       "      <th>26893</th>\n",
       "      <td>149.0</td>\n",
       "    </tr>\n",
       "  </tbody>\n",
       "</table>\n",
       "</div>"
      ],
      "text/plain": [
       "       duration\n",
       "32823     198.0\n",
       "16298     336.0\n",
       "28505     376.0\n",
       "6689      156.0\n",
       "26893     149.0"
      ]
     },
     "execution_count": 76,
     "metadata": {},
     "output_type": "execute_result"
    }
   ],
   "source": [
    "X_zero_test_duration = X_zero_Test[['duration']]\n",
    "X_zero_test_duration.head()"
   ]
  },
  {
   "cell_type": "code",
   "execution_count": 82,
   "id": "698c3fb9",
   "metadata": {},
   "outputs": [
    {
     "data": {
      "text/plain": [
       "18729     129.000000\n",
       "40744    1081.897839\n",
       "2468      158.000000\n",
       "44079     557.586480\n",
       "33984     294.626448\n",
       "Name: duration, dtype: float64"
      ]
     },
     "execution_count": 82,
     "metadata": {},
     "output_type": "execute_result"
    }
   ],
   "source": [
    "X_train_three_duration = X_train_three['duration'].head()\n",
    "X_train_three_duration.head()"
   ]
  },
  {
   "cell_type": "code",
   "execution_count": 87,
   "id": "e6839163",
   "metadata": {},
   "outputs": [
    {
     "name": "stdout",
     "output_type": "stream",
     "text": [
      "Accuracy of decision tree on test set: 0.80\n",
      "\n",
      "Confusion matrix: \n",
      " [[12120  2721]\n",
      " [  418   741]]\n",
      "\n",
      "Classification report: \n",
      "               precision    recall  f1-score   support\n",
      "\n",
      "         0.0       0.97      0.82      0.89     14841\n",
      "         1.0       0.21      0.64      0.32      1159\n",
      "\n",
      "    accuracy                           0.80     16000\n",
      "   macro avg       0.59      0.73      0.60     16000\n",
      "weighted avg       0.91      0.80      0.84     16000\n",
      "\n"
     ]
    },
    {
     "data": {
      "image/png": "[encoded data removed]",
      "text/plain": [
       "<Figure size 432x288 with 1 Axes>"
      ]
     },
     "metadata": {
      "needs_background": "light"
     },
     "output_type": "display_data"
    }
   ],
   "source": [
    "paramgrid = {'max_depth': list(range(1, 20, 2))\n",
    "                }\n",
    "grid_search = RandomizedSearchCV(DecisionTreeClassifier(), paramgrid, cv=5) # Could do a RandomizedSearchCV to save computing.\n",
    "    \n",
    "grid_search.fit(X_duration, y_train_three)\n",
    "logreg = grid_search.best_estimator_\n",
    "y_pred = logreg.predict(X_zero_test_duration)\n",
    "print('Accuracy of decision tree on test set: {:.2f}'.format(logreg.score(X_zero_test_duration, y_zero_Test)))\n",
    "cm = confusion_matrix(y_zero_Test, y_pred)\n",
    "print('\\nConfusion matrix: \\n',cm)\n",
    "\n",
    "print('\\nClassification report: \\n',classification_report(y_zero_Test, y_pred))\n",
    "\n",
    "logit_roc_auc = roc_auc_score(y_zero_Test, logreg.predict(X_zero_test_duration))\n",
    "fpr, tpr, thresholds = roc_curve(y_zero_Test, logreg.predict_proba(X_zero_test_duration)[:,1])\n",
    "\n",
    "plt.figure()\n",
    "plt.plot(fpr, tpr, label='Decision Tree (area = %0.2f)' % logit_roc_auc)\n",
    "plt.plot([0, 1], [0, 1],'r--')\n",
    "plt.xlim([0.0, 1.0])\n",
    "plt.ylim([0.0, 1.05])\n",
    "plt.xlabel('False Positive Rate')\n",
    "plt.ylabel('True Positive Rate')\n",
    "plt.title('Receiver operating characteristic')\n",
    "plt.legend(loc=\"lower right\")\n",
    "plt.savefig('DECISION TREE RESULTS.png')\n",
    "plt.show()"
   ]
  },
  {
   "cell_type": "markdown",
   "id": "7552416e",
   "metadata": {},
   "source": [
    "Duration alone provides scores comparable if not slightly better than the entire training set using ADASYN."
   ]
  }
 ],
 "metadata": {
  "kernelspec": {
   "display_name": "Python 3 (ipykernel)",
   "language": "python",
   "name": "python3"
  },
  "language_info": {
   "codemirror_mode": {
    "name": "ipython",
    "version": 3
   },
   "file_extension": ".py",
   "mimetype": "text/x-python",
   "name": "python",
   "nbconvert_exporter": "python",
   "pygments_lexer": "ipython3",
   "version": "3.9.12"
  }
 },
 "nbformat": 4,
 "nbformat_minor": 5
}
